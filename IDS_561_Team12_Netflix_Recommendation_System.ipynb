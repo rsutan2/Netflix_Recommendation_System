{
  "cells": [
    {
      "cell_type": "markdown",
      "source": [
        "**IDS 561 - Team 12: Netflix Recommendation System**\n",
        "\n",
        "Raymond Sutanto ‣ Cheng Lin Tsai ‣ Yi Jen Chen ‣ Stanley Lin"
      ],
      "metadata": {
        "id": "A6b1Onyi6pIj"
      },
      "id": "A6b1Onyi6pIj"
    },
    {
      "cell_type": "code",
      "execution_count": null,
      "id": "6f1b4b23",
      "metadata": {
        "execution": {
          "iopub.execute_input": "2023-02-01T23:19:23.346828Z",
          "iopub.status.busy": "2023-02-01T23:19:23.346050Z",
          "iopub.status.idle": "2023-02-01T23:19:24.461500Z",
          "shell.execute_reply": "2023-02-01T23:19:24.460370Z"
        },
        "papermill": {
          "duration": 1.129041,
          "end_time": "2023-02-01T23:19:24.464500",
          "exception": false,
          "start_time": "2023-02-01T23:19:23.335459",
          "status": "completed"
        },
        "tags": [],
        "id": "6f1b4b23"
      },
      "outputs": [],
      "source": [
        "import pandas as pd\n",
        "import numpy as np\n",
        "import seaborn as sns\n",
        "import matplotlib.pyplot as plt\n",
        "\n",
        "%matplotlib inline"
      ]
    },
    {
      "cell_type": "code",
      "execution_count": null,
      "id": "57e35012",
      "metadata": {
        "execution": {
          "iopub.execute_input": "2023-02-01T23:19:24.484541Z",
          "iopub.status.busy": "2023-02-01T23:19:24.484124Z",
          "iopub.status.idle": "2023-02-01T23:19:24.935090Z",
          "shell.execute_reply": "2023-02-01T23:19:24.933818Z"
        },
        "id": "57e35012",
        "outputId": "e8988b6c-5e50-4360-ed6e-3d7c1578a9b9",
        "papermill": {
          "duration": 0.464934,
          "end_time": "2023-02-01T23:19:24.938693",
          "exception": false,
          "start_time": "2023-02-01T23:19:24.473759",
          "status": "completed"
        },
        "tags": [],
        "colab": {
          "base_uri": "https://localhost:8080/",
          "height": 803
        }
      },
      "outputs": [
        {
          "output_type": "execute_result",
          "data": {
            "text/plain": [
              "     show_id     type                  title         director  \\\n",
              "0         s1    Movie   Dick Johnson Is Dead  Kirsten Johnson   \n",
              "1         s2  TV Show          Blood & Water              NaN   \n",
              "2         s3  TV Show              Ganglands  Julien Leclercq   \n",
              "3         s4  TV Show  Jailbirds New Orleans              NaN   \n",
              "4         s5  TV Show           Kota Factory              NaN   \n",
              "...      ...      ...                    ...              ...   \n",
              "8802   s8803    Movie                 Zodiac    David Fincher   \n",
              "8803   s8804  TV Show            Zombie Dumb              NaN   \n",
              "8804   s8805    Movie             Zombieland  Ruben Fleischer   \n",
              "8805   s8806    Movie                   Zoom     Peter Hewitt   \n",
              "8806   s8807    Movie                 Zubaan      Mozez Singh   \n",
              "\n",
              "                                                   cast        country  \\\n",
              "0                                                   NaN  United States   \n",
              "1     Ama Qamata, Khosi Ngema, Gail Mabalane, Thaban...   South Africa   \n",
              "2     Sami Bouajila, Tracy Gotoas, Samuel Jouy, Nabi...            NaN   \n",
              "3                                                   NaN            NaN   \n",
              "4     Mayur More, Jitendra Kumar, Ranjan Raj, Alam K...          India   \n",
              "...                                                 ...            ...   \n",
              "8802  Mark Ruffalo, Jake Gyllenhaal, Robert Downey J...  United States   \n",
              "8803                                                NaN            NaN   \n",
              "8804  Jesse Eisenberg, Woody Harrelson, Emma Stone, ...  United States   \n",
              "8805  Tim Allen, Courteney Cox, Chevy Chase, Kate Ma...  United States   \n",
              "8806  Vicky Kaushal, Sarah-Jane Dias, Raaghav Chanan...          India   \n",
              "\n",
              "              date_added  release_year rating   duration  \\\n",
              "0     September 25, 2021          2020  PG-13     90 min   \n",
              "1     September 24, 2021          2021  TV-MA  2 Seasons   \n",
              "2     September 24, 2021          2021  TV-MA   1 Season   \n",
              "3     September 24, 2021          2021  TV-MA   1 Season   \n",
              "4     September 24, 2021          2021  TV-MA  2 Seasons   \n",
              "...                  ...           ...    ...        ...   \n",
              "8802   November 20, 2019          2007      R    158 min   \n",
              "8803        July 1, 2019          2018  TV-Y7  2 Seasons   \n",
              "8804    November 1, 2019          2009      R     88 min   \n",
              "8805    January 11, 2020          2006     PG     88 min   \n",
              "8806       March 2, 2019          2015  TV-14    111 min   \n",
              "\n",
              "                                              listed_in  \\\n",
              "0                                         Documentaries   \n",
              "1       International TV Shows, TV Dramas, TV Mysteries   \n",
              "2     Crime TV Shows, International TV Shows, TV Act...   \n",
              "3                                Docuseries, Reality TV   \n",
              "4     International TV Shows, Romantic TV Shows, TV ...   \n",
              "...                                                 ...   \n",
              "8802                     Cult Movies, Dramas, Thrillers   \n",
              "8803             Kids' TV, Korean TV Shows, TV Comedies   \n",
              "8804                            Comedies, Horror Movies   \n",
              "8805                 Children & Family Movies, Comedies   \n",
              "8806     Dramas, International Movies, Music & Musicals   \n",
              "\n",
              "                                            description  \n",
              "0     As her father nears the end of his life, filmm...  \n",
              "1     After crossing paths at a party, a Cape Town t...  \n",
              "2     To protect his family from a powerful drug lor...  \n",
              "3     Feuds, flirtations and toilet talk go down amo...  \n",
              "4     In a city of coaching centers known to train I...  \n",
              "...                                                 ...  \n",
              "8802  A political cartoonist, a crime reporter and a...  \n",
              "8803  While living alone in a spooky town, a young g...  \n",
              "8804  Looking to survive in a world taken over by zo...  \n",
              "8805  Dragged from civilian life, a former superhero...  \n",
              "8806  A scrappy but poor boy worms his way into a ty...  \n",
              "\n",
              "[8807 rows x 12 columns]"
            ],
            "text/html": [
              "\n",
              "  <div id=\"df-15f1fa6d-8e0a-464c-829f-c67d801e59a7\">\n",
              "    <div class=\"colab-df-container\">\n",
              "      <div>\n",
              "<style scoped>\n",
              "    .dataframe tbody tr th:only-of-type {\n",
              "        vertical-align: middle;\n",
              "    }\n",
              "\n",
              "    .dataframe tbody tr th {\n",
              "        vertical-align: top;\n",
              "    }\n",
              "\n",
              "    .dataframe thead th {\n",
              "        text-align: right;\n",
              "    }\n",
              "</style>\n",
              "<table border=\"1\" class=\"dataframe\">\n",
              "  <thead>\n",
              "    <tr style=\"text-align: right;\">\n",
              "      <th></th>\n",
              "      <th>show_id</th>\n",
              "      <th>type</th>\n",
              "      <th>title</th>\n",
              "      <th>director</th>\n",
              "      <th>cast</th>\n",
              "      <th>country</th>\n",
              "      <th>date_added</th>\n",
              "      <th>release_year</th>\n",
              "      <th>rating</th>\n",
              "      <th>duration</th>\n",
              "      <th>listed_in</th>\n",
              "      <th>description</th>\n",
              "    </tr>\n",
              "  </thead>\n",
              "  <tbody>\n",
              "    <tr>\n",
              "      <th>0</th>\n",
              "      <td>s1</td>\n",
              "      <td>Movie</td>\n",
              "      <td>Dick Johnson Is Dead</td>\n",
              "      <td>Kirsten Johnson</td>\n",
              "      <td>NaN</td>\n",
              "      <td>United States</td>\n",
              "      <td>September 25, 2021</td>\n",
              "      <td>2020</td>\n",
              "      <td>PG-13</td>\n",
              "      <td>90 min</td>\n",
              "      <td>Documentaries</td>\n",
              "      <td>As her father nears the end of his life, filmm...</td>\n",
              "    </tr>\n",
              "    <tr>\n",
              "      <th>1</th>\n",
              "      <td>s2</td>\n",
              "      <td>TV Show</td>\n",
              "      <td>Blood &amp; Water</td>\n",
              "      <td>NaN</td>\n",
              "      <td>Ama Qamata, Khosi Ngema, Gail Mabalane, Thaban...</td>\n",
              "      <td>South Africa</td>\n",
              "      <td>September 24, 2021</td>\n",
              "      <td>2021</td>\n",
              "      <td>TV-MA</td>\n",
              "      <td>2 Seasons</td>\n",
              "      <td>International TV Shows, TV Dramas, TV Mysteries</td>\n",
              "      <td>After crossing paths at a party, a Cape Town t...</td>\n",
              "    </tr>\n",
              "    <tr>\n",
              "      <th>2</th>\n",
              "      <td>s3</td>\n",
              "      <td>TV Show</td>\n",
              "      <td>Ganglands</td>\n",
              "      <td>Julien Leclercq</td>\n",
              "      <td>Sami Bouajila, Tracy Gotoas, Samuel Jouy, Nabi...</td>\n",
              "      <td>NaN</td>\n",
              "      <td>September 24, 2021</td>\n",
              "      <td>2021</td>\n",
              "      <td>TV-MA</td>\n",
              "      <td>1 Season</td>\n",
              "      <td>Crime TV Shows, International TV Shows, TV Act...</td>\n",
              "      <td>To protect his family from a powerful drug lor...</td>\n",
              "    </tr>\n",
              "    <tr>\n",
              "      <th>3</th>\n",
              "      <td>s4</td>\n",
              "      <td>TV Show</td>\n",
              "      <td>Jailbirds New Orleans</td>\n",
              "      <td>NaN</td>\n",
              "      <td>NaN</td>\n",
              "      <td>NaN</td>\n",
              "      <td>September 24, 2021</td>\n",
              "      <td>2021</td>\n",
              "      <td>TV-MA</td>\n",
              "      <td>1 Season</td>\n",
              "      <td>Docuseries, Reality TV</td>\n",
              "      <td>Feuds, flirtations and toilet talk go down amo...</td>\n",
              "    </tr>\n",
              "    <tr>\n",
              "      <th>4</th>\n",
              "      <td>s5</td>\n",
              "      <td>TV Show</td>\n",
              "      <td>Kota Factory</td>\n",
              "      <td>NaN</td>\n",
              "      <td>Mayur More, Jitendra Kumar, Ranjan Raj, Alam K...</td>\n",
              "      <td>India</td>\n",
              "      <td>September 24, 2021</td>\n",
              "      <td>2021</td>\n",
              "      <td>TV-MA</td>\n",
              "      <td>2 Seasons</td>\n",
              "      <td>International TV Shows, Romantic TV Shows, TV ...</td>\n",
              "      <td>In a city of coaching centers known to train I...</td>\n",
              "    </tr>\n",
              "    <tr>\n",
              "      <th>...</th>\n",
              "      <td>...</td>\n",
              "      <td>...</td>\n",
              "      <td>...</td>\n",
              "      <td>...</td>\n",
              "      <td>...</td>\n",
              "      <td>...</td>\n",
              "      <td>...</td>\n",
              "      <td>...</td>\n",
              "      <td>...</td>\n",
              "      <td>...</td>\n",
              "      <td>...</td>\n",
              "      <td>...</td>\n",
              "    </tr>\n",
              "    <tr>\n",
              "      <th>8802</th>\n",
              "      <td>s8803</td>\n",
              "      <td>Movie</td>\n",
              "      <td>Zodiac</td>\n",
              "      <td>David Fincher</td>\n",
              "      <td>Mark Ruffalo, Jake Gyllenhaal, Robert Downey J...</td>\n",
              "      <td>United States</td>\n",
              "      <td>November 20, 2019</td>\n",
              "      <td>2007</td>\n",
              "      <td>R</td>\n",
              "      <td>158 min</td>\n",
              "      <td>Cult Movies, Dramas, Thrillers</td>\n",
              "      <td>A political cartoonist, a crime reporter and a...</td>\n",
              "    </tr>\n",
              "    <tr>\n",
              "      <th>8803</th>\n",
              "      <td>s8804</td>\n",
              "      <td>TV Show</td>\n",
              "      <td>Zombie Dumb</td>\n",
              "      <td>NaN</td>\n",
              "      <td>NaN</td>\n",
              "      <td>NaN</td>\n",
              "      <td>July 1, 2019</td>\n",
              "      <td>2018</td>\n",
              "      <td>TV-Y7</td>\n",
              "      <td>2 Seasons</td>\n",
              "      <td>Kids' TV, Korean TV Shows, TV Comedies</td>\n",
              "      <td>While living alone in a spooky town, a young g...</td>\n",
              "    </tr>\n",
              "    <tr>\n",
              "      <th>8804</th>\n",
              "      <td>s8805</td>\n",
              "      <td>Movie</td>\n",
              "      <td>Zombieland</td>\n",
              "      <td>Ruben Fleischer</td>\n",
              "      <td>Jesse Eisenberg, Woody Harrelson, Emma Stone, ...</td>\n",
              "      <td>United States</td>\n",
              "      <td>November 1, 2019</td>\n",
              "      <td>2009</td>\n",
              "      <td>R</td>\n",
              "      <td>88 min</td>\n",
              "      <td>Comedies, Horror Movies</td>\n",
              "      <td>Looking to survive in a world taken over by zo...</td>\n",
              "    </tr>\n",
              "    <tr>\n",
              "      <th>8805</th>\n",
              "      <td>s8806</td>\n",
              "      <td>Movie</td>\n",
              "      <td>Zoom</td>\n",
              "      <td>Peter Hewitt</td>\n",
              "      <td>Tim Allen, Courteney Cox, Chevy Chase, Kate Ma...</td>\n",
              "      <td>United States</td>\n",
              "      <td>January 11, 2020</td>\n",
              "      <td>2006</td>\n",
              "      <td>PG</td>\n",
              "      <td>88 min</td>\n",
              "      <td>Children &amp; Family Movies, Comedies</td>\n",
              "      <td>Dragged from civilian life, a former superhero...</td>\n",
              "    </tr>\n",
              "    <tr>\n",
              "      <th>8806</th>\n",
              "      <td>s8807</td>\n",
              "      <td>Movie</td>\n",
              "      <td>Zubaan</td>\n",
              "      <td>Mozez Singh</td>\n",
              "      <td>Vicky Kaushal, Sarah-Jane Dias, Raaghav Chanan...</td>\n",
              "      <td>India</td>\n",
              "      <td>March 2, 2019</td>\n",
              "      <td>2015</td>\n",
              "      <td>TV-14</td>\n",
              "      <td>111 min</td>\n",
              "      <td>Dramas, International Movies, Music &amp; Musicals</td>\n",
              "      <td>A scrappy but poor boy worms his way into a ty...</td>\n",
              "    </tr>\n",
              "  </tbody>\n",
              "</table>\n",
              "<p>8807 rows × 12 columns</p>\n",
              "</div>\n",
              "      <button class=\"colab-df-convert\" onclick=\"convertToInteractive('df-15f1fa6d-8e0a-464c-829f-c67d801e59a7')\"\n",
              "              title=\"Convert this dataframe to an interactive table.\"\n",
              "              style=\"display:none;\">\n",
              "        \n",
              "  <svg xmlns=\"http://www.w3.org/2000/svg\" height=\"24px\"viewBox=\"0 0 24 24\"\n",
              "       width=\"24px\">\n",
              "    <path d=\"M0 0h24v24H0V0z\" fill=\"none\"/>\n",
              "    <path d=\"M18.56 5.44l.94 2.06.94-2.06 2.06-.94-2.06-.94-.94-2.06-.94 2.06-2.06.94zm-11 1L8.5 8.5l.94-2.06 2.06-.94-2.06-.94L8.5 2.5l-.94 2.06-2.06.94zm10 10l.94 2.06.94-2.06 2.06-.94-2.06-.94-.94-2.06-.94 2.06-2.06.94z\"/><path d=\"M17.41 7.96l-1.37-1.37c-.4-.4-.92-.59-1.43-.59-.52 0-1.04.2-1.43.59L10.3 9.45l-7.72 7.72c-.78.78-.78 2.05 0 2.83L4 21.41c.39.39.9.59 1.41.59.51 0 1.02-.2 1.41-.59l7.78-7.78 2.81-2.81c.8-.78.8-2.07 0-2.86zM5.41 20L4 18.59l7.72-7.72 1.47 1.35L5.41 20z\"/>\n",
              "  </svg>\n",
              "      </button>\n",
              "      \n",
              "  <style>\n",
              "    .colab-df-container {\n",
              "      display:flex;\n",
              "      flex-wrap:wrap;\n",
              "      gap: 12px;\n",
              "    }\n",
              "\n",
              "    .colab-df-convert {\n",
              "      background-color: #E8F0FE;\n",
              "      border: none;\n",
              "      border-radius: 50%;\n",
              "      cursor: pointer;\n",
              "      display: none;\n",
              "      fill: #1967D2;\n",
              "      height: 32px;\n",
              "      padding: 0 0 0 0;\n",
              "      width: 32px;\n",
              "    }\n",
              "\n",
              "    .colab-df-convert:hover {\n",
              "      background-color: #E2EBFA;\n",
              "      box-shadow: 0px 1px 2px rgba(60, 64, 67, 0.3), 0px 1px 3px 1px rgba(60, 64, 67, 0.15);\n",
              "      fill: #174EA6;\n",
              "    }\n",
              "\n",
              "    [theme=dark] .colab-df-convert {\n",
              "      background-color: #3B4455;\n",
              "      fill: #D2E3FC;\n",
              "    }\n",
              "\n",
              "    [theme=dark] .colab-df-convert:hover {\n",
              "      background-color: #434B5C;\n",
              "      box-shadow: 0px 1px 3px 1px rgba(0, 0, 0, 0.15);\n",
              "      filter: drop-shadow(0px 1px 2px rgba(0, 0, 0, 0.3));\n",
              "      fill: #FFFFFF;\n",
              "    }\n",
              "  </style>\n",
              "\n",
              "      <script>\n",
              "        const buttonEl =\n",
              "          document.querySelector('#df-15f1fa6d-8e0a-464c-829f-c67d801e59a7 button.colab-df-convert');\n",
              "        buttonEl.style.display =\n",
              "          google.colab.kernel.accessAllowed ? 'block' : 'none';\n",
              "\n",
              "        async function convertToInteractive(key) {\n",
              "          const element = document.querySelector('#df-15f1fa6d-8e0a-464c-829f-c67d801e59a7');\n",
              "          const dataTable =\n",
              "            await google.colab.kernel.invokeFunction('convertToInteractive',\n",
              "                                                     [key], {});\n",
              "          if (!dataTable) return;\n",
              "\n",
              "          const docLinkHtml = 'Like what you see? Visit the ' +\n",
              "            '<a target=\"_blank\" href=https://colab.research.google.com/notebooks/data_table.ipynb>data table notebook</a>'\n",
              "            + ' to learn more about interactive tables.';\n",
              "          element.innerHTML = '';\n",
              "          dataTable['output_type'] = 'display_data';\n",
              "          await google.colab.output.renderOutput(dataTable, element);\n",
              "          const docLink = document.createElement('div');\n",
              "          docLink.innerHTML = docLinkHtml;\n",
              "          element.appendChild(docLink);\n",
              "        }\n",
              "      </script>\n",
              "    </div>\n",
              "  </div>\n",
              "  "
            ]
          },
          "metadata": {},
          "execution_count": 4
        }
      ],
      "source": [
        "df_raw = pd.read_csv(\"https://raw.githubusercontent.com/stanleyfromtw/netflix_titles/main/netflix_titles.csv\", encoding = \"Latin-1\")\n",
        "df_raw"
      ]
    },
    {
      "cell_type": "code",
      "execution_count": null,
      "id": "b8e71d75",
      "metadata": {
        "execution": {
          "iopub.execute_input": "2023-02-01T23:19:24.959601Z",
          "iopub.status.busy": "2023-02-01T23:19:24.959190Z",
          "iopub.status.idle": "2023-02-01T23:19:24.989295Z",
          "shell.execute_reply": "2023-02-01T23:19:24.987916Z"
        },
        "id": "b8e71d75",
        "outputId": "fb344d62-8b5a-4cdb-a805-01f127aa4989",
        "papermill": {
          "duration": 0.043517,
          "end_time": "2023-02-01T23:19:24.991965",
          "exception": false,
          "start_time": "2023-02-01T23:19:24.948448",
          "status": "completed"
        },
        "tags": [],
        "colab": {
          "base_uri": "https://localhost:8080/"
        }
      },
      "outputs": [
        {
          "output_type": "stream",
          "name": "stdout",
          "text": [
            "<class 'pandas.core.frame.DataFrame'>\n",
            "RangeIndex: 8807 entries, 0 to 8806\n",
            "Data columns (total 12 columns):\n",
            " #   Column        Non-Null Count  Dtype \n",
            "---  ------        --------------  ----- \n",
            " 0   show_id       8807 non-null   object\n",
            " 1   type          8807 non-null   object\n",
            " 2   title         8807 non-null   object\n",
            " 3   director      6173 non-null   object\n",
            " 4   cast          7982 non-null   object\n",
            " 5   country       7976 non-null   object\n",
            " 6   date_added    8797 non-null   object\n",
            " 7   release_year  8807 non-null   int64 \n",
            " 8   rating        8803 non-null   object\n",
            " 9   duration      8804 non-null   object\n",
            " 10  listed_in     8807 non-null   object\n",
            " 11  description   8807 non-null   object\n",
            "dtypes: int64(1), object(11)\n",
            "memory usage: 825.8+ KB\n"
          ]
        }
      ],
      "source": [
        "df_raw.info()"
      ]
    },
    {
      "cell_type": "code",
      "execution_count": null,
      "id": "aa59d4ac",
      "metadata": {
        "execution": {
          "iopub.execute_input": "2023-02-01T23:19:25.013256Z",
          "iopub.status.busy": "2023-02-01T23:19:25.012472Z",
          "iopub.status.idle": "2023-02-01T23:19:25.027077Z",
          "shell.execute_reply": "2023-02-01T23:19:25.025824Z"
        },
        "id": "aa59d4ac",
        "outputId": "1bf47f08-55c3-46a0-9bc3-0a59b2db3e9b",
        "papermill": {
          "duration": 0.027637,
          "end_time": "2023-02-01T23:19:25.029317",
          "exception": false,
          "start_time": "2023-02-01T23:19:25.001680",
          "status": "completed"
        },
        "tags": [],
        "colab": {
          "base_uri": "https://localhost:8080/"
        }
      },
      "outputs": [
        {
          "output_type": "execute_result",
          "data": {
            "text/plain": [
              "show_id            0\n",
              "type               0\n",
              "title              0\n",
              "director        2634\n",
              "cast             825\n",
              "country          831\n",
              "date_added        10\n",
              "release_year       0\n",
              "rating             4\n",
              "duration           3\n",
              "listed_in          0\n",
              "description        0\n",
              "dtype: int64"
            ]
          },
          "metadata": {},
          "execution_count": 6
        }
      ],
      "source": [
        "df_raw.isnull().sum()"
      ]
    },
    {
      "cell_type": "code",
      "execution_count": null,
      "id": "0df11875",
      "metadata": {
        "execution": {
          "iopub.execute_input": "2023-02-01T23:19:25.051395Z",
          "iopub.status.busy": "2023-02-01T23:19:25.050237Z",
          "iopub.status.idle": "2023-02-01T23:19:25.076961Z",
          "shell.execute_reply": "2023-02-01T23:19:25.075696Z"
        },
        "id": "0df11875",
        "outputId": "140d3be8-d099-4ff0-b8c9-435306a3413f",
        "papermill": {
          "duration": 0.040527,
          "end_time": "2023-02-01T23:19:25.079707",
          "exception": false,
          "start_time": "2023-02-01T23:19:25.039180",
          "status": "completed"
        },
        "tags": [],
        "colab": {
          "base_uri": "https://localhost:8080/"
        }
      },
      "outputs": [
        {
          "output_type": "execute_result",
          "data": {
            "text/plain": [
              "0"
            ]
          },
          "metadata": {},
          "execution_count": 7
        }
      ],
      "source": [
        "df_raw.duplicated().sum()"
      ]
    },
    {
      "cell_type": "code",
      "execution_count": null,
      "id": "fadb15dc",
      "metadata": {
        "execution": {
          "iopub.execute_input": "2023-02-01T23:19:25.102235Z",
          "iopub.status.busy": "2023-02-01T23:19:25.101149Z",
          "iopub.status.idle": "2023-02-01T23:19:25.129853Z",
          "shell.execute_reply": "2023-02-01T23:19:25.128656Z"
        },
        "id": "fadb15dc",
        "outputId": "4b0abb4d-cc94-4810-b932-5a35ab763328",
        "papermill": {
          "duration": 0.042631,
          "end_time": "2023-02-01T23:19:25.132568",
          "exception": false,
          "start_time": "2023-02-01T23:19:25.089937",
          "status": "completed"
        },
        "tags": [],
        "colab": {
          "base_uri": "https://localhost:8080/"
        }
      },
      "outputs": [
        {
          "output_type": "execute_result",
          "data": {
            "text/plain": [
              "show_id         8807\n",
              "type               2\n",
              "title           8807\n",
              "director        4528\n",
              "cast            7692\n",
              "country          748\n",
              "date_added      1767\n",
              "release_year      74\n",
              "rating            17\n",
              "duration         220\n",
              "listed_in        514\n",
              "description     8775\n",
              "dtype: int64"
            ]
          },
          "metadata": {},
          "execution_count": 8
        }
      ],
      "source": [
        "df_raw.nunique()"
      ]
    },
    {
      "cell_type": "code",
      "execution_count": null,
      "id": "6be8e047",
      "metadata": {
        "execution": {
          "iopub.execute_input": "2023-02-01T23:19:25.155955Z",
          "iopub.status.busy": "2023-02-01T23:19:25.155542Z",
          "iopub.status.idle": "2023-02-01T23:19:25.161258Z",
          "shell.execute_reply": "2023-02-01T23:19:25.160069Z"
        },
        "id": "6be8e047",
        "papermill": {
          "duration": 0.019701,
          "end_time": "2023-02-01T23:19:25.163625",
          "exception": false,
          "start_time": "2023-02-01T23:19:25.143924",
          "status": "completed"
        },
        "tags": []
      },
      "outputs": [],
      "source": [
        "df_data = df_raw.copy()"
      ]
    },
    {
      "cell_type": "code",
      "execution_count": null,
      "id": "b49e455c",
      "metadata": {
        "execution": {
          "iopub.execute_input": "2023-02-01T23:19:25.186223Z",
          "iopub.status.busy": "2023-02-01T23:19:25.185814Z",
          "iopub.status.idle": "2023-02-01T23:19:25.199089Z",
          "shell.execute_reply": "2023-02-01T23:19:25.197938Z"
        },
        "id": "b49e455c",
        "outputId": "eceb6842-bb35-4fe6-8cc1-a7c97f05025d",
        "papermill": {
          "duration": 0.02855,
          "end_time": "2023-02-01T23:19:25.202541",
          "exception": false,
          "start_time": "2023-02-01T23:19:25.173991",
          "status": "completed"
        },
        "tags": [],
        "colab": {
          "base_uri": "https://localhost:8080/"
        }
      },
      "outputs": [
        {
          "output_type": "stream",
          "name": "stdout",
          "text": [
            "United States\n",
            "January 1, 2020\n",
            "TV-MA\n"
          ]
        },
        {
          "output_type": "execute_result",
          "data": {
            "text/plain": [
              "0    1 Season\n",
              "Name: duration, dtype: object"
            ]
          },
          "metadata": {},
          "execution_count": 11
        }
      ],
      "source": [
        "#Checking null Values and filling with mode values\n",
        "print(df_data['country'].mode()[0])\n",
        "print(df_data['date_added'].mode()[0])\n",
        "print(df_data['rating'].mode()[0])\n",
        "df_data['duration'].mode()"
      ]
    },
    {
      "cell_type": "code",
      "execution_count": null,
      "id": "c3323873",
      "metadata": {
        "execution": {
          "iopub.execute_input": "2023-02-01T23:19:25.226024Z",
          "iopub.status.busy": "2023-02-01T23:19:25.225586Z",
          "iopub.status.idle": "2023-02-01T23:19:25.253859Z",
          "shell.execute_reply": "2023-02-01T23:19:25.252673Z"
        },
        "id": "c3323873",
        "outputId": "8a2792e9-7164-4c4f-bb87-8b6715f9702e",
        "papermill": {
          "duration": 0.043294,
          "end_time": "2023-02-01T23:19:25.256617",
          "exception": false,
          "start_time": "2023-02-01T23:19:25.213323",
          "status": "completed"
        },
        "tags": [],
        "colab": {
          "base_uri": "https://localhost:8080/"
        }
      },
      "outputs": [
        {
          "output_type": "execute_result",
          "data": {
            "text/plain": [
              "show_id         0\n",
              "type            0\n",
              "title           0\n",
              "director        0\n",
              "cast            0\n",
              "country         0\n",
              "date_added      0\n",
              "release_year    0\n",
              "rating          0\n",
              "duration        0\n",
              "listed_in       0\n",
              "description     0\n",
              "dtype: int64"
            ]
          },
          "metadata": {},
          "execution_count": 12
        }
      ],
      "source": [
        "df_data['director'] = df_data['director'].fillna('Unavailable')\n",
        "df_data['cast'] = df_data['cast'].fillna('Unavailable')\n",
        "df_data['country'] = df_data['country'].fillna(df_data['country'].mode()[0])\n",
        "df_data['date_added'] = df_data['date_added'].fillna(df_data['date_added'].mode()[0])\n",
        "df_data['rating'] = df_data['rating'].fillna(df_data['rating'].mode()[0])\n",
        "df_data['duration'] = df_data['duration'].fillna(df_data['duration'].mode()[0])\n",
        "df_data.isnull().sum()"
      ]
    },
    {
      "cell_type": "code",
      "execution_count": null,
      "id": "2adf6a1b",
      "metadata": {
        "execution": {
          "iopub.execute_input": "2023-02-01T23:19:25.280753Z",
          "iopub.status.busy": "2023-02-01T23:19:25.280099Z",
          "iopub.status.idle": "2023-02-01T23:19:25.453638Z",
          "shell.execute_reply": "2023-02-01T23:19:25.452491Z"
        },
        "id": "2adf6a1b",
        "outputId": "1eab5859-c6c8-46b8-fbca-43f824afc7fd",
        "papermill": {
          "duration": 0.188525,
          "end_time": "2023-02-01T23:19:25.456082",
          "exception": false,
          "start_time": "2023-02-01T23:19:25.267557",
          "status": "completed"
        },
        "tags": [],
        "colab": {
          "base_uri": "https://localhost:8080/",
          "height": 466
        }
      },
      "outputs": [
        {
          "output_type": "execute_result",
          "data": {
            "text/plain": [
              "[Text(0, 0, '6131'), Text(0, 0, '2676')]"
            ]
          },
          "metadata": {},
          "execution_count": 13
        },
        {
          "output_type": "display_data",
          "data": {
            "text/plain": [
              "<Figure size 640x480 with 1 Axes>"
            ],
            "image/png": "[encoded data removed]"
          },
          "metadata": {}
        }
      ],
      "source": [
        "fig, ax = plt.subplots()\n",
        "ax = sns.countplot(x=df_data['type'], palette = \"Set2\")\n",
        "ax.bar_label(ax.containers[0], label_type='edge')"
      ]
    },
    {
      "cell_type": "code",
      "execution_count": null,
      "id": "8b916207",
      "metadata": {
        "execution": {
          "iopub.execute_input": "2023-02-01T23:19:25.480643Z",
          "iopub.status.busy": "2023-02-01T23:19:25.479986Z",
          "iopub.status.idle": "2023-02-01T23:19:25.992845Z",
          "shell.execute_reply": "2023-02-01T23:19:25.991642Z"
        },
        "id": "8b916207",
        "outputId": "19b439b5-0d2c-40bd-eab4-ea515dfbbc96",
        "papermill": {
          "duration": 0.528236,
          "end_time": "2023-02-01T23:19:25.995622",
          "exception": false,
          "start_time": "2023-02-01T23:19:25.467386",
          "status": "completed"
        },
        "tags": [],
        "colab": {
          "base_uri": "https://localhost:8080/",
          "height": 556
        }
      },
      "outputs": [
        {
          "output_type": "display_data",
          "data": {
            "text/plain": [
              "<Figure size 2500x700 with 1 Axes>"
            ],
            "image/png": "[encoded data removed]"
          },
          "metadata": {}
        }
      ],
      "source": [
        "plt.figure(figsize=(25,7))\n",
        "sns.set(style=\"darkgrid\")\n",
        "sns.countplot(x=df_data['country'], palette=\"tab10\",order=df_data['country'].value_counts().index[0:30])\n",
        "ax=plt.xticks(rotation = 90)"
      ]
    },
    {
      "cell_type": "code",
      "execution_count": null,
      "id": "6839a256",
      "metadata": {
        "execution": {
          "iopub.execute_input": "2023-02-01T23:19:26.021535Z",
          "iopub.status.busy": "2023-02-01T23:19:26.021081Z",
          "iopub.status.idle": "2023-02-01T23:19:27.880410Z",
          "shell.execute_reply": "2023-02-01T23:19:27.879032Z"
        },
        "id": "6839a256",
        "outputId": "8350f8d9-5179-4187-ac37-655932785f67",
        "papermill": {
          "duration": 1.875215,
          "end_time": "2023-02-01T23:19:27.883047",
          "exception": false,
          "start_time": "2023-02-01T23:19:26.007832",
          "status": "completed"
        },
        "tags": [],
        "colab": {
          "base_uri": "https://localhost:8080/",
          "height": 430
        }
      },
      "outputs": [
        {
          "output_type": "display_data",
          "data": {
            "text/plain": [
              "<Figure size 2500x700 with 1 Axes>"
            ],
            "image/png": "[encoded data removed]"
          },
          "metadata": {}
        }
      ],
      "source": [
        "plt.figure(figsize=(25,7))\n",
        "sns.set(style=\"darkgrid\")\n",
        "sns.countplot(x=df_data['release_year'], palette=\"Set2\",order=df_data['release_year'].value_counts().index[0:])\n",
        "ax=plt.xticks(rotation = 90)"
      ]
    },
    {
      "cell_type": "code",
      "execution_count": null,
      "id": "bf14928b",
      "metadata": {
        "execution": {
          "iopub.execute_input": "2023-02-01T23:19:27.911163Z",
          "iopub.status.busy": "2023-02-01T23:19:27.910386Z",
          "iopub.status.idle": "2023-02-01T23:19:27.918888Z",
          "shell.execute_reply": "2023-02-01T23:19:27.918012Z"
        },
        "id": "bf14928b",
        "outputId": "e5f2c671-f95c-4fea-927f-38d90a6554ea",
        "papermill": {
          "duration": 0.024637,
          "end_time": "2023-02-01T23:19:27.920926",
          "exception": false,
          "start_time": "2023-02-01T23:19:27.896289",
          "status": "completed"
        },
        "tags": [],
        "colab": {
          "base_uri": "https://localhost:8080/"
        }
      },
      "outputs": [
        {
          "output_type": "execute_result",
          "data": {
            "text/plain": [
              "TV-MA       3211\n",
              "TV-14       2160\n",
              "TV-PG        863\n",
              "R            799\n",
              "PG-13        490\n",
              "TV-Y7        334\n",
              "TV-Y         307\n",
              "PG           287\n",
              "TV-G         220\n",
              "NR            80\n",
              "G             41\n",
              "TV-Y7-FV       6\n",
              "NC-17          3\n",
              "UR             3\n",
              "74 min         1\n",
              "84 min         1\n",
              "66 min         1\n",
              "Name: rating, dtype: int64"
            ]
          },
          "metadata": {},
          "execution_count": 16
        }
      ],
      "source": [
        "df_data['rating'].value_counts()"
      ]
    },
    {
      "cell_type": "code",
      "execution_count": null,
      "id": "62356ac4",
      "metadata": {
        "execution": {
          "iopub.execute_input": "2023-02-01T23:19:27.947580Z",
          "iopub.status.busy": "2023-02-01T23:19:27.946810Z",
          "iopub.status.idle": "2023-02-01T23:19:27.955220Z",
          "shell.execute_reply": "2023-02-01T23:19:27.954113Z"
        },
        "id": "62356ac4",
        "papermill": {
          "duration": 0.024414,
          "end_time": "2023-02-01T23:19:27.957519",
          "exception": false,
          "start_time": "2023-02-01T23:19:27.933105",
          "status": "completed"
        },
        "tags": []
      },
      "outputs": [],
      "source": [
        "indisposed = ['74 min' , '84 min' , '66 min']\n",
        "df_data =  df_data[~df_data['rating'].isin(indisposed)]"
      ]
    },
    {
      "cell_type": "code",
      "execution_count": null,
      "id": "6271e3f6",
      "metadata": {
        "execution": {
          "iopub.execute_input": "2023-02-01T23:19:27.983866Z",
          "iopub.status.busy": "2023-02-01T23:19:27.983433Z",
          "iopub.status.idle": "2023-02-01T23:19:27.990579Z",
          "shell.execute_reply": "2023-02-01T23:19:27.989414Z"
        },
        "id": "6271e3f6",
        "outputId": "6df45739-0a44-4bc5-b43f-015dd49d1044",
        "papermill": {
          "duration": 0.023078,
          "end_time": "2023-02-01T23:19:27.993035",
          "exception": false,
          "start_time": "2023-02-01T23:19:27.969957",
          "status": "completed"
        },
        "tags": [],
        "colab": {
          "base_uri": "https://localhost:8080/"
        }
      },
      "outputs": [
        {
          "output_type": "execute_result",
          "data": {
            "text/plain": [
              "(8804, 12)"
            ]
          },
          "metadata": {},
          "execution_count": 19
        }
      ],
      "source": [
        "df_data.shape"
      ]
    },
    {
      "cell_type": "code",
      "execution_count": null,
      "id": "a3a70c59",
      "metadata": {
        "execution": {
          "iopub.execute_input": "2023-02-01T23:19:28.020473Z",
          "iopub.status.busy": "2023-02-01T23:19:28.020027Z",
          "iopub.status.idle": "2023-02-01T23:19:28.028233Z",
          "shell.execute_reply": "2023-02-01T23:19:28.027345Z"
        },
        "id": "a3a70c59",
        "outputId": "a9b5b22f-f044-4288-dc08-e5c295d77812",
        "papermill": {
          "duration": 0.024228,
          "end_time": "2023-02-01T23:19:28.030327",
          "exception": false,
          "start_time": "2023-02-01T23:19:28.006099",
          "status": "completed"
        },
        "tags": [],
        "colab": {
          "base_uri": "https://localhost:8080/"
        }
      },
      "outputs": [
        {
          "output_type": "execute_result",
          "data": {
            "text/plain": [
              "14"
            ]
          },
          "metadata": {},
          "execution_count": 20
        }
      ],
      "source": [
        "df_data['rating'].nunique()"
      ]
    },
    {
      "cell_type": "code",
      "execution_count": null,
      "id": "bf727a97",
      "metadata": {
        "execution": {
          "iopub.execute_input": "2023-02-01T23:19:28.057740Z",
          "iopub.status.busy": "2023-02-01T23:19:28.057331Z",
          "iopub.status.idle": "2023-02-01T23:19:28.533277Z",
          "shell.execute_reply": "2023-02-01T23:19:28.531952Z"
        },
        "id": "bf727a97",
        "outputId": "c8a67b48-eb4e-4b5d-eb06-a96dfe1b4248",
        "papermill": {
          "duration": 0.493642,
          "end_time": "2023-02-01T23:19:28.536613",
          "exception": false,
          "start_time": "2023-02-01T23:19:28.042971",
          "status": "completed"
        },
        "tags": [],
        "colab": {
          "base_uri": "https://localhost:8080/",
          "height": 1000
        }
      },
      "outputs": [
        {
          "output_type": "display_data",
          "data": {
            "text/plain": [
              "<Figure size 1500x1500 with 1 Axes>"
            ],
            "image/png": "[encoded data removed]"
          },
          "metadata": {}
        }
      ],
      "source": [
        "plt.figure(figsize = (15,15))\n",
        "plt.pie(df_data['rating'].value_counts(),\n",
        "       labels=df_data.rating.unique(),\n",
        "       explode = [0.04,0.02,0.01,0,0,0,0,0,0,0,0,0,0,0],\n",
        "       autopct= '%.2f%%',\n",
        "       shadow= True,\n",
        "       startangle= 150,\n",
        "       textprops = {'size':'large','fontweight':'bold','rotation':'horizontal','color':'black'})\n",
        "plt.legend(loc='upper right')\n",
        "plt.title(\"Rating Pie Chart\", fontsize = 15, fontweight = 'bold')\n",
        "plt.show()"
      ]
    },
    {
      "cell_type": "code",
      "execution_count": null,
      "id": "aea5fdbd",
      "metadata": {
        "execution": {
          "iopub.execute_input": "2023-02-01T23:19:28.570073Z",
          "iopub.status.busy": "2023-02-01T23:19:28.569597Z",
          "iopub.status.idle": "2023-02-01T23:19:28.891908Z",
          "shell.execute_reply": "2023-02-01T23:19:28.890524Z"
        },
        "id": "aea5fdbd",
        "outputId": "cc079717-84e4-47f3-874b-3cd3896891fc",
        "papermill": {
          "duration": 0.342318,
          "end_time": "2023-02-01T23:19:28.894681",
          "exception": false,
          "start_time": "2023-02-01T23:19:28.552363",
          "status": "completed"
        },
        "tags": [],
        "colab": {
          "base_uri": "https://localhost:8080/",
          "height": 407
        }
      },
      "outputs": [
        {
          "output_type": "display_data",
          "data": {
            "text/plain": [
              "<Figure size 2500x700 with 1 Axes>"
            ],
            "image/png": "[encoded data removed]"
          },
          "metadata": {}
        }
      ],
      "source": [
        "plt.figure(figsize=(25,7))\n",
        "sns.set(style=\"darkgrid\")\n",
        "ax=sns.countplot(y=df_data['rating'], palette=\"husl\", order=df_data['rating'].value_counts().index[0:])\n",
        "ax=ax.bar_label(ax.containers[0], label_type='edge')"
      ]
    },
    {
      "cell_type": "code",
      "execution_count": null,
      "id": "d126ef77",
      "metadata": {
        "execution": {
          "iopub.execute_input": "2023-02-01T23:19:28.928191Z",
          "iopub.status.busy": "2023-02-01T23:19:28.927751Z",
          "iopub.status.idle": "2023-02-01T23:19:29.195129Z",
          "shell.execute_reply": "2023-02-01T23:19:29.193981Z"
        },
        "id": "d126ef77",
        "papermill": {
          "duration": 0.287332,
          "end_time": "2023-02-01T23:19:29.197751",
          "exception": false,
          "start_time": "2023-02-01T23:19:28.910419",
          "status": "completed"
        },
        "tags": []
      },
      "outputs": [],
      "source": [
        "df_data['date_added'] = pd.to_datetime(df_data['date_added'])\n",
        "df_data['yearmonth_added'] = pd.to_datetime(df_data['date_added']).dt.strftime('%Y-%m')\n",
        "df_data['month_added'] = df_data['date_added'].dt.month\n",
        "df_data['year_added'] = df_data['date_added'].dt.year"
      ]
    },
    {
      "cell_type": "code",
      "execution_count": null,
      "id": "d1096755",
      "metadata": {
        "execution": {
          "iopub.execute_input": "2023-02-01T23:19:29.230612Z",
          "iopub.status.busy": "2023-02-01T23:19:29.230196Z",
          "iopub.status.idle": "2023-02-01T23:19:33.249638Z",
          "shell.execute_reply": "2023-02-01T23:19:33.248461Z"
        },
        "id": "d1096755",
        "outputId": "54a490a1-b6a7-48e0-a041-80a0609f20b4",
        "papermill": {
          "duration": 4.039217,
          "end_time": "2023-02-01T23:19:33.252715",
          "exception": false,
          "start_time": "2023-02-01T23:19:29.213498",
          "status": "completed"
        },
        "tags": [],
        "colab": {
          "base_uri": "https://localhost:8080/",
          "height": 940
        }
      },
      "outputs": [
        {
          "output_type": "display_data",
          "data": {
            "text/plain": [
              "<Figure size 2500x500 with 1 Axes>"
            ],
            "image/png": "[encoded data removed]"
          },
          "metadata": {}
        },
        {
          "output_type": "display_data",
          "data": {
            "text/plain": [
              "<Figure size 2500x500 with 1 Axes>"
            ],
            "image/png": "[encoded data removed]"
          },
          "metadata": {}
        },
        {
          "output_type": "display_data",
          "data": {
            "text/plain": [
              "<Figure size 2500x500 with 1 Axes>"
            ],
            "image/png": "[encoded data removed]"
          },
          "metadata": {}
        }
      ],
      "source": [
        "plt.figure(figsize=(25,5))\n",
        "sns.histplot(x=df_data['date_added'], bins=80, color=\"red\")\n",
        "plt.figure(figsize=(25,5))\n",
        "sns.histplot(x=df_data['month_added'], bins=12)\n",
        "plt.figure(figsize=(25,5))\n",
        "sns.histplot(x=df_data['yearmonth_added'], bins=20, color=\"green\" )\n",
        "ax=plt.xticks(rotation = 90)"
      ]
    },
    {
      "cell_type": "code",
      "execution_count": null,
      "id": "24a5ed1b",
      "metadata": {
        "execution": {
          "iopub.execute_input": "2023-02-01T23:19:33.288948Z",
          "iopub.status.busy": "2023-02-01T23:19:33.288489Z",
          "iopub.status.idle": "2023-02-01T23:19:33.298424Z",
          "shell.execute_reply": "2023-02-01T23:19:33.297210Z"
        },
        "id": "24a5ed1b",
        "outputId": "61cdb383-ee92-48a6-d431-8100d020a612",
        "papermill": {
          "duration": 0.030744,
          "end_time": "2023-02-01T23:19:33.300941",
          "exception": false,
          "start_time": "2023-02-01T23:19:33.270197",
          "status": "completed"
        },
        "tags": [],
        "colab": {
          "base_uri": "https://localhost:8080/"
        }
      },
      "outputs": [
        {
          "output_type": "execute_result",
          "data": {
            "text/plain": [
              "1 Season     1793\n",
              "2 Seasons     425\n",
              "3 Seasons     199\n",
              "90 min        152\n",
              "94 min        146\n",
              "             ... \n",
              "16 min          1\n",
              "186 min         1\n",
              "193 min         1\n",
              "189 min         1\n",
              "191 min         1\n",
              "Name: duration, Length: 220, dtype: int64"
            ]
          },
          "metadata": {},
          "execution_count": 28
        }
      ],
      "source": [
        "df_data['duration'].value_counts()"
      ]
    },
    {
      "cell_type": "code",
      "execution_count": null,
      "id": "215320d3",
      "metadata": {
        "execution": {
          "iopub.execute_input": "2023-02-01T23:19:33.337794Z",
          "iopub.status.busy": "2023-02-01T23:19:33.336631Z",
          "iopub.status.idle": "2023-02-01T23:19:33.356271Z",
          "shell.execute_reply": "2023-02-01T23:19:33.354745Z"
        },
        "id": "215320d3",
        "outputId": "ac556cb5-acac-4d12-db53-68ad733479b1",
        "papermill": {
          "duration": 0.041383,
          "end_time": "2023-02-01T23:19:33.359071",
          "exception": false,
          "start_time": "2023-02-01T23:19:33.317688",
          "status": "completed"
        },
        "tags": [],
        "colab": {
          "base_uri": "https://localhost:8080/"
        }
      },
      "outputs": [
        {
          "output_type": "stream",
          "name": "stdout",
          "text": [
            "<class 'pandas.core.frame.DataFrame'>\n",
            "Int64Index: 8804 entries, 0 to 8806\n",
            "Data columns (total 15 columns):\n",
            " #   Column           Non-Null Count  Dtype         \n",
            "---  ------           --------------  -----         \n",
            " 0   show_id          8804 non-null   object        \n",
            " 1   type             8804 non-null   object        \n",
            " 2   title            8804 non-null   object        \n",
            " 3   director         8804 non-null   object        \n",
            " 4   cast             8804 non-null   object        \n",
            " 5   country          8804 non-null   object        \n",
            " 6   date_added       8804 non-null   datetime64[ns]\n",
            " 7   release_year     8804 non-null   int64         \n",
            " 8   rating           8804 non-null   object        \n",
            " 9   duration         8804 non-null   object        \n",
            " 10  listed_in        8804 non-null   object        \n",
            " 11  description      8804 non-null   object        \n",
            " 12  yearmonth_added  8804 non-null   object        \n",
            " 13  month_added      8804 non-null   int64         \n",
            " 14  year_added       8804 non-null   int64         \n",
            "dtypes: datetime64[ns](1), int64(3), object(11)\n",
            "memory usage: 1.1+ MB\n"
          ]
        }
      ],
      "source": [
        "df_data.info()"
      ]
    },
    {
      "cell_type": "code",
      "execution_count": null,
      "id": "f8afb6dd",
      "metadata": {
        "execution": {
          "iopub.execute_input": "2023-02-01T23:19:33.394300Z",
          "iopub.status.busy": "2023-02-01T23:19:33.393844Z",
          "iopub.status.idle": "2023-02-01T23:19:33.413081Z",
          "shell.execute_reply": "2023-02-01T23:19:33.411840Z"
        },
        "id": "f8afb6dd",
        "outputId": "bdb59f2f-fd0f-4660-d485-3a42cc3f275f",
        "papermill": {
          "duration": 0.039813,
          "end_time": "2023-02-01T23:19:33.415438",
          "exception": false,
          "start_time": "2023-02-01T23:19:33.375625",
          "status": "completed"
        },
        "tags": [],
        "colab": {
          "base_uri": "https://localhost:8080/",
          "height": 419
        }
      },
      "outputs": [
        {
          "output_type": "execute_result",
          "data": {
            "text/plain": [
              "                      title  \\\n",
              "0      Dick Johnson Is Dead   \n",
              "1             Blood & Water   \n",
              "2                 Ganglands   \n",
              "3     Jailbirds New Orleans   \n",
              "4              Kota Factory   \n",
              "...                     ...   \n",
              "8802                 Zodiac   \n",
              "8803            Zombie Dumb   \n",
              "8804             Zombieland   \n",
              "8805                   Zoom   \n",
              "8806                 Zubaan   \n",
              "\n",
              "                                              listed_in  \\\n",
              "0                                         Documentaries   \n",
              "1       International TV Shows, TV Dramas, TV Mysteries   \n",
              "2     Crime TV Shows, International TV Shows, TV Act...   \n",
              "3                                Docuseries, Reality TV   \n",
              "4     International TV Shows, Romantic TV Shows, TV ...   \n",
              "...                                                 ...   \n",
              "8802                     Cult Movies, Dramas, Thrillers   \n",
              "8803             Kids' TV, Korean TV Shows, TV Comedies   \n",
              "8804                            Comedies, Horror Movies   \n",
              "8805                 Children & Family Movies, Comedies   \n",
              "8806     Dramas, International Movies, Music & Musicals   \n",
              "\n",
              "                                            description  \n",
              "0     As her father nears the end of his life, filmm...  \n",
              "1     After crossing paths at a party, a Cape Town t...  \n",
              "2     To protect his family from a powerful drug lor...  \n",
              "3     Feuds, flirtations and toilet talk go down amo...  \n",
              "4     In a city of coaching centers known to train I...  \n",
              "...                                                 ...  \n",
              "8802  A political cartoonist, a crime reporter and a...  \n",
              "8803  While living alone in a spooky town, a young g...  \n",
              "8804  Looking to survive in a world taken over by zo...  \n",
              "8805  Dragged from civilian life, a former superhero...  \n",
              "8806  A scrappy but poor boy worms his way into a ty...  \n",
              "\n",
              "[8804 rows x 3 columns]"
            ],
            "text/html": [
              "\n",
              "  <div id=\"df-1db91994-f3ab-4d0f-818a-df9b5600d3b7\">\n",
              "    <div class=\"colab-df-container\">\n",
              "      <div>\n",
              "<style scoped>\n",
              "    .dataframe tbody tr th:only-of-type {\n",
              "        vertical-align: middle;\n",
              "    }\n",
              "\n",
              "    .dataframe tbody tr th {\n",
              "        vertical-align: top;\n",
              "    }\n",
              "\n",
              "    .dataframe thead th {\n",
              "        text-align: right;\n",
              "    }\n",
              "</style>\n",
              "<table border=\"1\" class=\"dataframe\">\n",
              "  <thead>\n",
              "    <tr style=\"text-align: right;\">\n",
              "      <th></th>\n",
              "      <th>title</th>\n",
              "      <th>listed_in</th>\n",
              "      <th>description</th>\n",
              "    </tr>\n",
              "  </thead>\n",
              "  <tbody>\n",
              "    <tr>\n",
              "      <th>0</th>\n",
              "      <td>Dick Johnson Is Dead</td>\n",
              "      <td>Documentaries</td>\n",
              "      <td>As her father nears the end of his life, filmm...</td>\n",
              "    </tr>\n",
              "    <tr>\n",
              "      <th>1</th>\n",
              "      <td>Blood &amp; Water</td>\n",
              "      <td>International TV Shows, TV Dramas, TV Mysteries</td>\n",
              "      <td>After crossing paths at a party, a Cape Town t...</td>\n",
              "    </tr>\n",
              "    <tr>\n",
              "      <th>2</th>\n",
              "      <td>Ganglands</td>\n",
              "      <td>Crime TV Shows, International TV Shows, TV Act...</td>\n",
              "      <td>To protect his family from a powerful drug lor...</td>\n",
              "    </tr>\n",
              "    <tr>\n",
              "      <th>3</th>\n",
              "      <td>Jailbirds New Orleans</td>\n",
              "      <td>Docuseries, Reality TV</td>\n",
              "      <td>Feuds, flirtations and toilet talk go down amo...</td>\n",
              "    </tr>\n",
              "    <tr>\n",
              "      <th>4</th>\n",
              "      <td>Kota Factory</td>\n",
              "      <td>International TV Shows, Romantic TV Shows, TV ...</td>\n",
              "      <td>In a city of coaching centers known to train I...</td>\n",
              "    </tr>\n",
              "    <tr>\n",
              "      <th>...</th>\n",
              "      <td>...</td>\n",
              "      <td>...</td>\n",
              "      <td>...</td>\n",
              "    </tr>\n",
              "    <tr>\n",
              "      <th>8802</th>\n",
              "      <td>Zodiac</td>\n",
              "      <td>Cult Movies, Dramas, Thrillers</td>\n",
              "      <td>A political cartoonist, a crime reporter and a...</td>\n",
              "    </tr>\n",
              "    <tr>\n",
              "      <th>8803</th>\n",
              "      <td>Zombie Dumb</td>\n",
              "      <td>Kids' TV, Korean TV Shows, TV Comedies</td>\n",
              "      <td>While living alone in a spooky town, a young g...</td>\n",
              "    </tr>\n",
              "    <tr>\n",
              "      <th>8804</th>\n",
              "      <td>Zombieland</td>\n",
              "      <td>Comedies, Horror Movies</td>\n",
              "      <td>Looking to survive in a world taken over by zo...</td>\n",
              "    </tr>\n",
              "    <tr>\n",
              "      <th>8805</th>\n",
              "      <td>Zoom</td>\n",
              "      <td>Children &amp; Family Movies, Comedies</td>\n",
              "      <td>Dragged from civilian life, a former superhero...</td>\n",
              "    </tr>\n",
              "    <tr>\n",
              "      <th>8806</th>\n",
              "      <td>Zubaan</td>\n",
              "      <td>Dramas, International Movies, Music &amp; Musicals</td>\n",
              "      <td>A scrappy but poor boy worms his way into a ty...</td>\n",
              "    </tr>\n",
              "  </tbody>\n",
              "</table>\n",
              "<p>8804 rows × 3 columns</p>\n",
              "</div>\n",
              "      <button class=\"colab-df-convert\" onclick=\"convertToInteractive('df-1db91994-f3ab-4d0f-818a-df9b5600d3b7')\"\n",
              "              title=\"Convert this dataframe to an interactive table.\"\n",
              "              style=\"display:none;\">\n",
              "        \n",
              "  <svg xmlns=\"http://www.w3.org/2000/svg\" height=\"24px\"viewBox=\"0 0 24 24\"\n",
              "       width=\"24px\">\n",
              "    <path d=\"M0 0h24v24H0V0z\" fill=\"none\"/>\n",
              "    <path d=\"M18.56 5.44l.94 2.06.94-2.06 2.06-.94-2.06-.94-.94-2.06-.94 2.06-2.06.94zm-11 1L8.5 8.5l.94-2.06 2.06-.94-2.06-.94L8.5 2.5l-.94 2.06-2.06.94zm10 10l.94 2.06.94-2.06 2.06-.94-2.06-.94-.94-2.06-.94 2.06-2.06.94z\"/><path d=\"M17.41 7.96l-1.37-1.37c-.4-.4-.92-.59-1.43-.59-.52 0-1.04.2-1.43.59L10.3 9.45l-7.72 7.72c-.78.78-.78 2.05 0 2.83L4 21.41c.39.39.9.59 1.41.59.51 0 1.02-.2 1.41-.59l7.78-7.78 2.81-2.81c.8-.78.8-2.07 0-2.86zM5.41 20L4 18.59l7.72-7.72 1.47 1.35L5.41 20z\"/>\n",
              "  </svg>\n",
              "      </button>\n",
              "      \n",
              "  <style>\n",
              "    .colab-df-container {\n",
              "      display:flex;\n",
              "      flex-wrap:wrap;\n",
              "      gap: 12px;\n",
              "    }\n",
              "\n",
              "    .colab-df-convert {\n",
              "      background-color: #E8F0FE;\n",
              "      border: none;\n",
              "      border-radius: 50%;\n",
              "      cursor: pointer;\n",
              "      display: none;\n",
              "      fill: #1967D2;\n",
              "      height: 32px;\n",
              "      padding: 0 0 0 0;\n",
              "      width: 32px;\n",
              "    }\n",
              "\n",
              "    .colab-df-convert:hover {\n",
              "      background-color: #E2EBFA;\n",
              "      box-shadow: 0px 1px 2px rgba(60, 64, 67, 0.3), 0px 1px 3px 1px rgba(60, 64, 67, 0.15);\n",
              "      fill: #174EA6;\n",
              "    }\n",
              "\n",
              "    [theme=dark] .colab-df-convert {\n",
              "      background-color: #3B4455;\n",
              "      fill: #D2E3FC;\n",
              "    }\n",
              "\n",
              "    [theme=dark] .colab-df-convert:hover {\n",
              "      background-color: #434B5C;\n",
              "      box-shadow: 0px 1px 3px 1px rgba(0, 0, 0, 0.15);\n",
              "      filter: drop-shadow(0px 1px 2px rgba(0, 0, 0, 0.3));\n",
              "      fill: #FFFFFF;\n",
              "    }\n",
              "  </style>\n",
              "\n",
              "      <script>\n",
              "        const buttonEl =\n",
              "          document.querySelector('#df-1db91994-f3ab-4d0f-818a-df9b5600d3b7 button.colab-df-convert');\n",
              "        buttonEl.style.display =\n",
              "          google.colab.kernel.accessAllowed ? 'block' : 'none';\n",
              "\n",
              "        async function convertToInteractive(key) {\n",
              "          const element = document.querySelector('#df-1db91994-f3ab-4d0f-818a-df9b5600d3b7');\n",
              "          const dataTable =\n",
              "            await google.colab.kernel.invokeFunction('convertToInteractive',\n",
              "                                                     [key], {});\n",
              "          if (!dataTable) return;\n",
              "\n",
              "          const docLinkHtml = 'Like what you see? Visit the ' +\n",
              "            '<a target=\"_blank\" href=https://colab.research.google.com/notebooks/data_table.ipynb>data table notebook</a>'\n",
              "            + ' to learn more about interactive tables.';\n",
              "          element.innerHTML = '';\n",
              "          dataTable['output_type'] = 'display_data';\n",
              "          await google.colab.output.renderOutput(dataTable, element);\n",
              "          const docLink = document.createElement('div');\n",
              "          docLink.innerHTML = docLinkHtml;\n",
              "          element.appendChild(docLink);\n",
              "        }\n",
              "      </script>\n",
              "    </div>\n",
              "  </div>\n",
              "  "
            ]
          },
          "metadata": {},
          "execution_count": 30
        }
      ],
      "source": [
        "df = df_data.copy()\n",
        "df[['title','listed_in','description']]"
      ]
    },
    {
      "cell_type": "code",
      "execution_count": null,
      "id": "3a23851a",
      "metadata": {
        "execution": {
          "iopub.execute_input": "2023-02-01T23:19:33.450992Z",
          "iopub.status.busy": "2023-02-01T23:19:33.450524Z",
          "iopub.status.idle": "2023-02-01T23:19:33.647181Z",
          "shell.execute_reply": "2023-02-01T23:19:33.646063Z"
        },
        "id": "3a23851a",
        "papermill": {
          "duration": 0.217956,
          "end_time": "2023-02-01T23:19:33.650181",
          "exception": false,
          "start_time": "2023-02-01T23:19:33.432225",
          "status": "completed"
        },
        "tags": []
      },
      "outputs": [],
      "source": [
        "#Importing TF-IDF\n",
        "from sklearn.metrics.pairwise import linear_kernel\n",
        "from sklearn.feature_extraction.text import TfidfVectorizer"
      ]
    },
    {
      "cell_type": "code",
      "execution_count": null,
      "id": "3a63b1e9",
      "metadata": {
        "execution": {
          "iopub.execute_input": "2023-02-01T23:19:33.686556Z",
          "iopub.status.busy": "2023-02-01T23:19:33.686084Z",
          "iopub.status.idle": "2023-02-01T23:19:37.067595Z",
          "shell.execute_reply": "2023-02-01T23:19:37.066349Z"
        },
        "id": "3a63b1e9",
        "outputId": "870b5cc9-6a79-410d-a1a1-db568a290fed",
        "papermill": {
          "duration": 3.402829,
          "end_time": "2023-02-01T23:19:37.070136",
          "exception": false,
          "start_time": "2023-02-01T23:19:33.667307",
          "status": "completed"
        },
        "tags": [],
        "colab": {
          "base_uri": "https://localhost:8080/"
        }
      },
      "outputs": [
        {
          "output_type": "execute_result",
          "data": {
            "text/plain": [
              "array([[1.        , 0.        , 0.        , ..., 0.        , 0.        ,\n",
              "        0.        ],\n",
              "       [0.        , 1.        , 0.62049891, ..., 0.        , 0.        ,\n",
              "        0.11410947],\n",
              "       [0.        , 0.62049891, 1.        , ..., 0.        , 0.        ,\n",
              "        0.04446265],\n",
              "       ...,\n",
              "       [0.        , 0.        , 0.        , ..., 1.        , 0.28785966,\n",
              "        0.08467461],\n",
              "       [0.        , 0.        , 0.        , ..., 0.28785966, 1.        ,\n",
              "        0.07125161],\n",
              "       [0.        , 0.11410947, 0.04446265, ..., 0.08467461, 0.07125161,\n",
              "        1.        ]])"
            ]
          },
          "metadata": {},
          "execution_count": 33
        }
      ],
      "source": [
        "tfidf = TfidfVectorizer(stop_words='english')\n",
        "tfidf_matrix_desc=tfidf.fit_transform(df['description'])\n",
        "tfidf_matrix_genre=tfidf.fit_transform(df['listed_in'])\n",
        "#Deploy cosine similarity\n",
        "cosine_sim_desc = linear_kernel(tfidf_matrix_desc,tfidf_matrix_desc)\n",
        "cosine_sim_genre = linear_kernel(tfidf_matrix_genre,tfidf_matrix_genre)\n",
        "cosine_sim_genre"
      ]
    },
    {
      "cell_type": "code",
      "execution_count": null,
      "id": "83fd223a",
      "metadata": {
        "execution": {
          "iopub.execute_input": "2023-02-01T23:19:37.105713Z",
          "iopub.status.busy": "2023-02-01T23:19:37.105288Z",
          "iopub.status.idle": "2023-02-01T23:19:37.115996Z",
          "shell.execute_reply": "2023-02-01T23:19:37.114928Z"
        },
        "id": "83fd223a",
        "outputId": "20097ac3-1c59-4035-fcc9-83ea7655c6d0",
        "papermill": {
          "duration": 0.031065,
          "end_time": "2023-02-01T23:19:37.118278",
          "exception": false,
          "start_time": "2023-02-01T23:19:37.087213",
          "status": "completed"
        },
        "tags": [],
        "colab": {
          "base_uri": "https://localhost:8080/"
        }
      },
      "outputs": [
        {
          "output_type": "execute_result",
          "data": {
            "text/plain": [
              "title\n",
              "Dick Johnson Is Dead        0\n",
              "Blood & Water               1\n",
              "Ganglands                   2\n",
              "Jailbirds New Orleans       3\n",
              "Kota Factory                4\n",
              "                         ... \n",
              "Zodiac                   8802\n",
              "Zombie Dumb              8803\n",
              "Zombieland               8804\n",
              "Zoom                     8805\n",
              "Zubaan                   8806\n",
              "Length: 8804, dtype: int64"
            ]
          },
          "metadata": {},
          "execution_count": 35
        }
      ],
      "source": [
        "lists=pd.Series(df.index,index=df['title'])\n",
        "lists"
      ]
    },
    {
      "cell_type": "code",
      "execution_count": null,
      "id": "19a7e927",
      "metadata": {
        "execution": {
          "iopub.execute_input": "2023-02-01T23:19:37.154149Z",
          "iopub.status.busy": "2023-02-01T23:19:37.153718Z",
          "iopub.status.idle": "2023-02-01T23:19:37.160954Z",
          "shell.execute_reply": "2023-02-01T23:19:37.159944Z"
        },
        "id": "19a7e927",
        "papermill": {
          "duration": 0.028019,
          "end_time": "2023-02-01T23:19:37.163384",
          "exception": false,
          "start_time": "2023-02-01T23:19:37.135365",
          "status": "completed"
        },
        "tags": []
      },
      "outputs": [],
      "source": [
        "#Define get recommendation for description\n",
        "def get_recommendations_desc(title):\n",
        "    idx = lists[title]\n",
        "    sim_scores_desc = list(enumerate(cosine_sim_desc[idx]))\n",
        "    sim_scores_desc = sorted(sim_scores_desc, key=lambda x: x[1], reverse=True)\n",
        "    sim_scores_desc = sim_scores_desc[1:11]\n",
        "    movie_lists = [i[0] for i in sim_scores_desc]\n",
        "    return df[['title','description','listed_in']].iloc[movie_lists]"
      ]
    },
    {
      "cell_type": "code",
      "execution_count": null,
      "id": "40a65c31",
      "metadata": {
        "execution": {
          "iopub.execute_input": "2023-02-01T23:19:37.201325Z",
          "iopub.status.busy": "2023-02-01T23:19:37.200911Z",
          "iopub.status.idle": "2023-02-01T23:19:37.220161Z",
          "shell.execute_reply": "2023-02-01T23:19:37.218918Z"
        },
        "id": "40a65c31",
        "outputId": "448cec1a-c4f8-4d00-f07a-70253e28dd8e",
        "papermill": {
          "duration": 0.040682,
          "end_time": "2023-02-01T23:19:37.222351",
          "exception": false,
          "start_time": "2023-02-01T23:19:37.181669",
          "status": "completed"
        },
        "tags": [],
        "colab": {
          "base_uri": "https://localhost:8080/",
          "height": 359
        }
      },
      "outputs": [
        {
          "output_type": "execute_result",
          "data": {
            "text/plain": [
              "                           title  \\\n",
              "4733               Rowdy Rathore   \n",
              "1240                  Safe Haven   \n",
              "1487             Sakho & Mangane   \n",
              "8198     The Autopsy of Jane Doe   \n",
              "2419               Big Stone Gap   \n",
              "6518            Come and Find Me   \n",
              "6760                   FirstBorn   \n",
              "8026             Sinister Circle   \n",
              "4201                 Hardy Bucks   \n",
              "1270  Sin senos sÃ­ hay paraÃ­so   \n",
              "\n",
              "                                            description  \\\n",
              "4733  A con man uncovers a deadly secret and must sa...   \n",
              "1240  When a mysterious woman arrives in a small Nor...   \n",
              "1487  A by-the-book police captain and a brash young...   \n",
              "8198  A father-son team of small-town coroners perfo...   \n",
              "2419  A single middle-aged woman who has lived her w...   \n",
              "6518  When his photographer girlfriend vanishes, an ...   \n",
              "6760  A young couple fights supernatural foes in an ...   \n",
              "8026  A psychologist and her mute son confront evil ...   \n",
              "4201  A circle of young men entertain vague ambition...   \n",
              "1270  Born into a small town controlled by the mafia...   \n",
              "\n",
              "                                              listed_in  \n",
              "4733  Action & Adventure, Comedies, International Mo...  \n",
              "1240                            Dramas, Romantic Movies  \n",
              "1487  Crime TV Shows, International TV Shows, TV Dramas  \n",
              "8198       Horror Movies, Independent Movies, Thrillers  \n",
              "2419                          Comedies, Romantic Movies  \n",
              "6518                                  Dramas, Thrillers  \n",
              "6760                Horror Movies, International Movies  \n",
              "8026                Horror Movies, International Movies  \n",
              "4201                                        TV Comedies  \n",
              "1270  International TV Shows, Spanish-Language TV Sh...  "
            ],
            "text/html": [
              "\n",
              "  <div id=\"df-32e2a185-a472-45ae-8782-b197db3fc1c7\">\n",
              "    <div class=\"colab-df-container\">\n",
              "      <div>\n",
              "<style scoped>\n",
              "    .dataframe tbody tr th:only-of-type {\n",
              "        vertical-align: middle;\n",
              "    }\n",
              "\n",
              "    .dataframe tbody tr th {\n",
              "        vertical-align: top;\n",
              "    }\n",
              "\n",
              "    .dataframe thead th {\n",
              "        text-align: right;\n",
              "    }\n",
              "</style>\n",
              "<table border=\"1\" class=\"dataframe\">\n",
              "  <thead>\n",
              "    <tr style=\"text-align: right;\">\n",
              "      <th></th>\n",
              "      <th>title</th>\n",
              "      <th>description</th>\n",
              "      <th>listed_in</th>\n",
              "    </tr>\n",
              "  </thead>\n",
              "  <tbody>\n",
              "    <tr>\n",
              "      <th>4733</th>\n",
              "      <td>Rowdy Rathore</td>\n",
              "      <td>A con man uncovers a deadly secret and must sa...</td>\n",
              "      <td>Action &amp; Adventure, Comedies, International Mo...</td>\n",
              "    </tr>\n",
              "    <tr>\n",
              "      <th>1240</th>\n",
              "      <td>Safe Haven</td>\n",
              "      <td>When a mysterious woman arrives in a small Nor...</td>\n",
              "      <td>Dramas, Romantic Movies</td>\n",
              "    </tr>\n",
              "    <tr>\n",
              "      <th>1487</th>\n",
              "      <td>Sakho &amp; Mangane</td>\n",
              "      <td>A by-the-book police captain and a brash young...</td>\n",
              "      <td>Crime TV Shows, International TV Shows, TV Dramas</td>\n",
              "    </tr>\n",
              "    <tr>\n",
              "      <th>8198</th>\n",
              "      <td>The Autopsy of Jane Doe</td>\n",
              "      <td>A father-son team of small-town coroners perfo...</td>\n",
              "      <td>Horror Movies, Independent Movies, Thrillers</td>\n",
              "    </tr>\n",
              "    <tr>\n",
              "      <th>2419</th>\n",
              "      <td>Big Stone Gap</td>\n",
              "      <td>A single middle-aged woman who has lived her w...</td>\n",
              "      <td>Comedies, Romantic Movies</td>\n",
              "    </tr>\n",
              "    <tr>\n",
              "      <th>6518</th>\n",
              "      <td>Come and Find Me</td>\n",
              "      <td>When his photographer girlfriend vanishes, an ...</td>\n",
              "      <td>Dramas, Thrillers</td>\n",
              "    </tr>\n",
              "    <tr>\n",
              "      <th>6760</th>\n",
              "      <td>FirstBorn</td>\n",
              "      <td>A young couple fights supernatural foes in an ...</td>\n",
              "      <td>Horror Movies, International Movies</td>\n",
              "    </tr>\n",
              "    <tr>\n",
              "      <th>8026</th>\n",
              "      <td>Sinister Circle</td>\n",
              "      <td>A psychologist and her mute son confront evil ...</td>\n",
              "      <td>Horror Movies, International Movies</td>\n",
              "    </tr>\n",
              "    <tr>\n",
              "      <th>4201</th>\n",
              "      <td>Hardy Bucks</td>\n",
              "      <td>A circle of young men entertain vague ambition...</td>\n",
              "      <td>TV Comedies</td>\n",
              "    </tr>\n",
              "    <tr>\n",
              "      <th>1270</th>\n",
              "      <td>Sin senos sÃ­ hay paraÃ­so</td>\n",
              "      <td>Born into a small town controlled by the mafia...</td>\n",
              "      <td>International TV Shows, Spanish-Language TV Sh...</td>\n",
              "    </tr>\n",
              "  </tbody>\n",
              "</table>\n",
              "</div>\n",
              "      <button class=\"colab-df-convert\" onclick=\"convertToInteractive('df-32e2a185-a472-45ae-8782-b197db3fc1c7')\"\n",
              "              title=\"Convert this dataframe to an interactive table.\"\n",
              "              style=\"display:none;\">\n",
              "        \n",
              "  <svg xmlns=\"http://www.w3.org/2000/svg\" height=\"24px\"viewBox=\"0 0 24 24\"\n",
              "       width=\"24px\">\n",
              "    <path d=\"M0 0h24v24H0V0z\" fill=\"none\"/>\n",
              "    <path d=\"M18.56 5.44l.94 2.06.94-2.06 2.06-.94-2.06-.94-.94-2.06-.94 2.06-2.06.94zm-11 1L8.5 8.5l.94-2.06 2.06-.94-2.06-.94L8.5 2.5l-.94 2.06-2.06.94zm10 10l.94 2.06.94-2.06 2.06-.94-2.06-.94-.94-2.06-.94 2.06-2.06.94z\"/><path d=\"M17.41 7.96l-1.37-1.37c-.4-.4-.92-.59-1.43-.59-.52 0-1.04.2-1.43.59L10.3 9.45l-7.72 7.72c-.78.78-.78 2.05 0 2.83L4 21.41c.39.39.9.59 1.41.59.51 0 1.02-.2 1.41-.59l7.78-7.78 2.81-2.81c.8-.78.8-2.07 0-2.86zM5.41 20L4 18.59l7.72-7.72 1.47 1.35L5.41 20z\"/>\n",
              "  </svg>\n",
              "      </button>\n",
              "      \n",
              "  <style>\n",
              "    .colab-df-container {\n",
              "      display:flex;\n",
              "      flex-wrap:wrap;\n",
              "      gap: 12px;\n",
              "    }\n",
              "\n",
              "    .colab-df-convert {\n",
              "      background-color: #E8F0FE;\n",
              "      border: none;\n",
              "      border-radius: 50%;\n",
              "      cursor: pointer;\n",
              "      display: none;\n",
              "      fill: #1967D2;\n",
              "      height: 32px;\n",
              "      padding: 0 0 0 0;\n",
              "      width: 32px;\n",
              "    }\n",
              "\n",
              "    .colab-df-convert:hover {\n",
              "      background-color: #E2EBFA;\n",
              "      box-shadow: 0px 1px 2px rgba(60, 64, 67, 0.3), 0px 1px 3px 1px rgba(60, 64, 67, 0.15);\n",
              "      fill: #174EA6;\n",
              "    }\n",
              "\n",
              "    [theme=dark] .colab-df-convert {\n",
              "      background-color: #3B4455;\n",
              "      fill: #D2E3FC;\n",
              "    }\n",
              "\n",
              "    [theme=dark] .colab-df-convert:hover {\n",
              "      background-color: #434B5C;\n",
              "      box-shadow: 0px 1px 3px 1px rgba(0, 0, 0, 0.15);\n",
              "      filter: drop-shadow(0px 1px 2px rgba(0, 0, 0, 0.3));\n",
              "      fill: #FFFFFF;\n",
              "    }\n",
              "  </style>\n",
              "\n",
              "      <script>\n",
              "        const buttonEl =\n",
              "          document.querySelector('#df-32e2a185-a472-45ae-8782-b197db3fc1c7 button.colab-df-convert');\n",
              "        buttonEl.style.display =\n",
              "          google.colab.kernel.accessAllowed ? 'block' : 'none';\n",
              "\n",
              "        async function convertToInteractive(key) {\n",
              "          const element = document.querySelector('#df-32e2a185-a472-45ae-8782-b197db3fc1c7');\n",
              "          const dataTable =\n",
              "            await google.colab.kernel.invokeFunction('convertToInteractive',\n",
              "                                                     [key], {});\n",
              "          if (!dataTable) return;\n",
              "\n",
              "          const docLinkHtml = 'Like what you see? Visit the ' +\n",
              "            '<a target=\"_blank\" href=https://colab.research.google.com/notebooks/data_table.ipynb>data table notebook</a>'\n",
              "            + ' to learn more about interactive tables.';\n",
              "          element.innerHTML = '';\n",
              "          dataTable['output_type'] = 'display_data';\n",
              "          await google.colab.output.renderOutput(dataTable, element);\n",
              "          const docLink = document.createElement('div');\n",
              "          docLink.innerHTML = docLinkHtml;\n",
              "          element.appendChild(docLink);\n",
              "        }\n",
              "      </script>\n",
              "    </div>\n",
              "  </div>\n",
              "  "
            ]
          },
          "metadata": {},
          "execution_count": 38
        }
      ],
      "source": [
        "get_recommendations_desc(\"Stranger Things\")"
      ]
    },
    {
      "cell_type": "code",
      "execution_count": null,
      "id": "1fdfd0fe",
      "metadata": {
        "execution": {
          "iopub.execute_input": "2023-02-01T23:19:37.259890Z",
          "iopub.status.busy": "2023-02-01T23:19:37.258912Z",
          "iopub.status.idle": "2023-02-01T23:19:37.265154Z",
          "shell.execute_reply": "2023-02-01T23:19:37.264243Z"
        },
        "id": "1fdfd0fe",
        "papermill": {
          "duration": 0.027276,
          "end_time": "2023-02-01T23:19:37.267189",
          "exception": false,
          "start_time": "2023-02-01T23:19:37.239913",
          "status": "completed"
        },
        "tags": []
      },
      "outputs": [],
      "source": [
        "def get_recommendations_genre(title):\n",
        "    idx = lists[title]\n",
        "    sim_scores_genre = list(enumerate(cosine_sim_genre[idx]))\n",
        "    sim_scores_genre = sorted(sim_scores_genre, key=lambda x: x[1], reverse=True)\n",
        "    sim_scores_genre = sim_scores_genre[1:11]\n",
        "    movie_lists = [i[0] for i in sim_scores_genre]\n",
        "    return df[['title','listed_in','description']].iloc[movie_lists]"
      ]
    },
    {
      "cell_type": "code",
      "execution_count": null,
      "id": "801b3f34",
      "metadata": {
        "execution": {
          "iopub.execute_input": "2023-02-01T23:19:37.304466Z",
          "iopub.status.busy": "2023-02-01T23:19:37.303500Z",
          "iopub.status.idle": "2023-02-01T23:19:37.322118Z",
          "shell.execute_reply": "2023-02-01T23:19:37.320913Z"
        },
        "id": "801b3f34",
        "outputId": "96cf5a27-efb6-4541-cacd-b93727a5259d",
        "papermill": {
          "duration": 0.03985,
          "end_time": "2023-02-01T23:19:37.324446",
          "exception": false,
          "start_time": "2023-02-01T23:19:37.284596",
          "status": "completed"
        },
        "tags": [],
        "colab": {
          "base_uri": "https://localhost:8080/",
          "height": 359
        }
      },
      "outputs": [
        {
          "output_type": "execute_result",
          "data": {
            "text/plain": [
              "                     title                                          listed_in  \\\n",
              "3187           Nightflyers       TV Horror, TV Mysteries, TV Sci-Fi & Fantasy   \n",
              "3685       Stranger Things       TV Horror, TV Mysteries, TV Sci-Fi & Fantasy   \n",
              "6953                 Helix       TV Horror, TV Mysteries, TV Sci-Fi & Fantasy   \n",
              "241               Manifest       TV Dramas, TV Mysteries, TV Sci-Fi & Fantasy   \n",
              "3986                The OA       TV Dramas, TV Mysteries, TV Sci-Fi & Fantasy   \n",
              "5287   The Vampire Diaries       TV Dramas, TV Mysteries, TV Sci-Fi & Fantasy   \n",
              "5939              The 4400       TV Dramas, TV Mysteries, TV Sci-Fi & Fantasy   \n",
              "8421        The Messengers       TV Dramas, TV Mysteries, TV Sci-Fi & Fantasy   \n",
              "2190  The Umbrella Academy  TV Action & Adventure, TV Mysteries, TV Sci-Fi...   \n",
              "2303           Warrior Nun  TV Action & Adventure, TV Mysteries, TV Sci-Fi...   \n",
              "\n",
              "                                            description  \n",
              "3187  With humankind's future at stake, a group of s...  \n",
              "3685  When a young boy vanishes, a small town uncove...  \n",
              "6953  While investigating a possible outbreak at an ...  \n",
              "241   When a plane mysteriously lands years after ta...  \n",
              "3986  Seven years after vanishing from her home, a y...  \n",
              "5287  Trapped in adolescent bodies, feuding vampire ...  \n",
              "5939  4400 people who vanished over the course of fi...  \n",
              "8421  A group of strangers who are killed by a myste...  \n",
              "2190  Reunited by their father's death, estranged si...  \n",
              "2303  After waking up in a morgue, an orphaned teen ...  "
            ],
            "text/html": [
              "\n",
              "  <div id=\"df-f3d40fcf-b5e6-4f9e-a951-b1ab1de4497f\">\n",
              "    <div class=\"colab-df-container\">\n",
              "      <div>\n",
              "<style scoped>\n",
              "    .dataframe tbody tr th:only-of-type {\n",
              "        vertical-align: middle;\n",
              "    }\n",
              "\n",
              "    .dataframe tbody tr th {\n",
              "        vertical-align: top;\n",
              "    }\n",
              "\n",
              "    .dataframe thead th {\n",
              "        text-align: right;\n",
              "    }\n",
              "</style>\n",
              "<table border=\"1\" class=\"dataframe\">\n",
              "  <thead>\n",
              "    <tr style=\"text-align: right;\">\n",
              "      <th></th>\n",
              "      <th>title</th>\n",
              "      <th>listed_in</th>\n",
              "      <th>description</th>\n",
              "    </tr>\n",
              "  </thead>\n",
              "  <tbody>\n",
              "    <tr>\n",
              "      <th>3187</th>\n",
              "      <td>Nightflyers</td>\n",
              "      <td>TV Horror, TV Mysteries, TV Sci-Fi &amp; Fantasy</td>\n",
              "      <td>With humankind's future at stake, a group of s...</td>\n",
              "    </tr>\n",
              "    <tr>\n",
              "      <th>3685</th>\n",
              "      <td>Stranger Things</td>\n",
              "      <td>TV Horror, TV Mysteries, TV Sci-Fi &amp; Fantasy</td>\n",
              "      <td>When a young boy vanishes, a small town uncove...</td>\n",
              "    </tr>\n",
              "    <tr>\n",
              "      <th>6953</th>\n",
              "      <td>Helix</td>\n",
              "      <td>TV Horror, TV Mysteries, TV Sci-Fi &amp; Fantasy</td>\n",
              "      <td>While investigating a possible outbreak at an ...</td>\n",
              "    </tr>\n",
              "    <tr>\n",
              "      <th>241</th>\n",
              "      <td>Manifest</td>\n",
              "      <td>TV Dramas, TV Mysteries, TV Sci-Fi &amp; Fantasy</td>\n",
              "      <td>When a plane mysteriously lands years after ta...</td>\n",
              "    </tr>\n",
              "    <tr>\n",
              "      <th>3986</th>\n",
              "      <td>The OA</td>\n",
              "      <td>TV Dramas, TV Mysteries, TV Sci-Fi &amp; Fantasy</td>\n",
              "      <td>Seven years after vanishing from her home, a y...</td>\n",
              "    </tr>\n",
              "    <tr>\n",
              "      <th>5287</th>\n",
              "      <td>The Vampire Diaries</td>\n",
              "      <td>TV Dramas, TV Mysteries, TV Sci-Fi &amp; Fantasy</td>\n",
              "      <td>Trapped in adolescent bodies, feuding vampire ...</td>\n",
              "    </tr>\n",
              "    <tr>\n",
              "      <th>5939</th>\n",
              "      <td>The 4400</td>\n",
              "      <td>TV Dramas, TV Mysteries, TV Sci-Fi &amp; Fantasy</td>\n",
              "      <td>4400 people who vanished over the course of fi...</td>\n",
              "    </tr>\n",
              "    <tr>\n",
              "      <th>8421</th>\n",
              "      <td>The Messengers</td>\n",
              "      <td>TV Dramas, TV Mysteries, TV Sci-Fi &amp; Fantasy</td>\n",
              "      <td>A group of strangers who are killed by a myste...</td>\n",
              "    </tr>\n",
              "    <tr>\n",
              "      <th>2190</th>\n",
              "      <td>The Umbrella Academy</td>\n",
              "      <td>TV Action &amp; Adventure, TV Mysteries, TV Sci-Fi...</td>\n",
              "      <td>Reunited by their father's death, estranged si...</td>\n",
              "    </tr>\n",
              "    <tr>\n",
              "      <th>2303</th>\n",
              "      <td>Warrior Nun</td>\n",
              "      <td>TV Action &amp; Adventure, TV Mysteries, TV Sci-Fi...</td>\n",
              "      <td>After waking up in a morgue, an orphaned teen ...</td>\n",
              "    </tr>\n",
              "  </tbody>\n",
              "</table>\n",
              "</div>\n",
              "      <button class=\"colab-df-convert\" onclick=\"convertToInteractive('df-f3d40fcf-b5e6-4f9e-a951-b1ab1de4497f')\"\n",
              "              title=\"Convert this dataframe to an interactive table.\"\n",
              "              style=\"display:none;\">\n",
              "        \n",
              "  <svg xmlns=\"http://www.w3.org/2000/svg\" height=\"24px\"viewBox=\"0 0 24 24\"\n",
              "       width=\"24px\">\n",
              "    <path d=\"M0 0h24v24H0V0z\" fill=\"none\"/>\n",
              "    <path d=\"M18.56 5.44l.94 2.06.94-2.06 2.06-.94-2.06-.94-.94-2.06-.94 2.06-2.06.94zm-11 1L8.5 8.5l.94-2.06 2.06-.94-2.06-.94L8.5 2.5l-.94 2.06-2.06.94zm10 10l.94 2.06.94-2.06 2.06-.94-2.06-.94-.94-2.06-.94 2.06-2.06.94z\"/><path d=\"M17.41 7.96l-1.37-1.37c-.4-.4-.92-.59-1.43-.59-.52 0-1.04.2-1.43.59L10.3 9.45l-7.72 7.72c-.78.78-.78 2.05 0 2.83L4 21.41c.39.39.9.59 1.41.59.51 0 1.02-.2 1.41-.59l7.78-7.78 2.81-2.81c.8-.78.8-2.07 0-2.86zM5.41 20L4 18.59l7.72-7.72 1.47 1.35L5.41 20z\"/>\n",
              "  </svg>\n",
              "      </button>\n",
              "      \n",
              "  <style>\n",
              "    .colab-df-container {\n",
              "      display:flex;\n",
              "      flex-wrap:wrap;\n",
              "      gap: 12px;\n",
              "    }\n",
              "\n",
              "    .colab-df-convert {\n",
              "      background-color: #E8F0FE;\n",
              "      border: none;\n",
              "      border-radius: 50%;\n",
              "      cursor: pointer;\n",
              "      display: none;\n",
              "      fill: #1967D2;\n",
              "      height: 32px;\n",
              "      padding: 0 0 0 0;\n",
              "      width: 32px;\n",
              "    }\n",
              "\n",
              "    .colab-df-convert:hover {\n",
              "      background-color: #E2EBFA;\n",
              "      box-shadow: 0px 1px 2px rgba(60, 64, 67, 0.3), 0px 1px 3px 1px rgba(60, 64, 67, 0.15);\n",
              "      fill: #174EA6;\n",
              "    }\n",
              "\n",
              "    [theme=dark] .colab-df-convert {\n",
              "      background-color: #3B4455;\n",
              "      fill: #D2E3FC;\n",
              "    }\n",
              "\n",
              "    [theme=dark] .colab-df-convert:hover {\n",
              "      background-color: #434B5C;\n",
              "      box-shadow: 0px 1px 3px 1px rgba(0, 0, 0, 0.15);\n",
              "      filter: drop-shadow(0px 1px 2px rgba(0, 0, 0, 0.3));\n",
              "      fill: #FFFFFF;\n",
              "    }\n",
              "  </style>\n",
              "\n",
              "      <script>\n",
              "        const buttonEl =\n",
              "          document.querySelector('#df-f3d40fcf-b5e6-4f9e-a951-b1ab1de4497f button.colab-df-convert');\n",
              "        buttonEl.style.display =\n",
              "          google.colab.kernel.accessAllowed ? 'block' : 'none';\n",
              "\n",
              "        async function convertToInteractive(key) {\n",
              "          const element = document.querySelector('#df-f3d40fcf-b5e6-4f9e-a951-b1ab1de4497f');\n",
              "          const dataTable =\n",
              "            await google.colab.kernel.invokeFunction('convertToInteractive',\n",
              "                                                     [key], {});\n",
              "          if (!dataTable) return;\n",
              "\n",
              "          const docLinkHtml = 'Like what you see? Visit the ' +\n",
              "            '<a target=\"_blank\" href=https://colab.research.google.com/notebooks/data_table.ipynb>data table notebook</a>'\n",
              "            + ' to learn more about interactive tables.';\n",
              "          element.innerHTML = '';\n",
              "          dataTable['output_type'] = 'display_data';\n",
              "          await google.colab.output.renderOutput(dataTable, element);\n",
              "          const docLink = document.createElement('div');\n",
              "          docLink.innerHTML = docLinkHtml;\n",
              "          element.appendChild(docLink);\n",
              "        }\n",
              "      </script>\n",
              "    </div>\n",
              "  </div>\n",
              "  "
            ]
          },
          "metadata": {},
          "execution_count": 40
        }
      ],
      "source": [
        "get_recommendations_genre(\"Stranger Things\")"
      ]
    },
    {
      "cell_type": "code",
      "execution_count": null,
      "id": "bb7973b7",
      "metadata": {
        "execution": {
          "iopub.execute_input": "2023-02-01T23:19:37.362468Z",
          "iopub.status.busy": "2023-02-01T23:19:37.361768Z",
          "iopub.status.idle": "2023-02-01T23:19:37.376284Z",
          "shell.execute_reply": "2023-02-01T23:19:37.375302Z"
        },
        "id": "bb7973b7",
        "outputId": "5b82dda7-706c-43a7-d45b-e484adc6f217",
        "papermill": {
          "duration": 0.03601,
          "end_time": "2023-02-01T23:19:37.378368",
          "exception": false,
          "start_time": "2023-02-01T23:19:37.342358",
          "status": "completed"
        },
        "tags": [],
        "colab": {
          "base_uri": "https://localhost:8080/"
        }
      },
      "outputs": [
        {
          "output_type": "execute_result",
          "data": {
            "text/plain": [
              "show_id            0\n",
              "type               0\n",
              "title              0\n",
              "director        2634\n",
              "cast             825\n",
              "country          831\n",
              "date_added        10\n",
              "release_year       0\n",
              "rating             4\n",
              "duration           3\n",
              "listed_in          0\n",
              "description        0\n",
              "dtype: int64"
            ]
          },
          "metadata": {},
          "execution_count": 44
        }
      ],
      "source": [
        "df_final = df_raw.copy()\n",
        "df_final.isnull().sum()"
      ]
    },
    {
      "cell_type": "code",
      "execution_count": null,
      "id": "e288a25b",
      "metadata": {
        "execution": {
          "iopub.execute_input": "2023-02-01T23:19:37.417099Z",
          "iopub.status.busy": "2023-02-01T23:19:37.416687Z",
          "iopub.status.idle": "2023-02-01T23:19:37.442381Z",
          "shell.execute_reply": "2023-02-01T23:19:37.441457Z"
        },
        "id": "e288a25b",
        "papermill": {
          "duration": 0.048546,
          "end_time": "2023-02-01T23:19:37.444977",
          "exception": false,
          "start_time": "2023-02-01T23:19:37.396431",
          "status": "completed"
        },
        "tags": []
      },
      "outputs": [],
      "source": [
        "df_final['director'] = df_final['director'].fillna('')\n",
        "df_final['cast'] = df_final['cast'].fillna('')\n",
        "df_final['text'] = df_final['title'] + ' '+df_final['director'] + ' '+ df_final['cast']+ ' ' +df_final['listed_in'] + ' '+df_final['description']"
      ]
    },
    {
      "cell_type": "code",
      "execution_count": null,
      "id": "a313fcba",
      "metadata": {
        "execution": {
          "iopub.execute_input": "2023-02-01T23:19:37.483211Z",
          "iopub.status.busy": "2023-02-01T23:19:37.482590Z",
          "iopub.status.idle": "2023-02-01T23:19:37.499345Z",
          "shell.execute_reply": "2023-02-01T23:19:37.498444Z"
        },
        "id": "a313fcba",
        "outputId": "dfc56366-90c2-439e-8d53-5d471b591247",
        "papermill": {
          "duration": 0.038714,
          "end_time": "2023-02-01T23:19:37.501889",
          "exception": false,
          "start_time": "2023-02-01T23:19:37.463175",
          "status": "completed"
        },
        "tags": [],
        "colab": {
          "base_uri": "https://localhost:8080/",
          "height": 503
        }
      },
      "outputs": [
        {
          "output_type": "execute_result",
          "data": {
            "text/plain": [
              "  show_id     type                  title         director  \\\n",
              "0      s1    Movie   Dick Johnson Is Dead  Kirsten Johnson   \n",
              "1      s2  TV Show          Blood & Water                    \n",
              "2      s3  TV Show              Ganglands  Julien Leclercq   \n",
              "3      s4  TV Show  Jailbirds New Orleans                    \n",
              "4      s5  TV Show           Kota Factory                    \n",
              "\n",
              "                                                cast        country  \\\n",
              "0                                                     United States   \n",
              "1  Ama Qamata, Khosi Ngema, Gail Mabalane, Thaban...   South Africa   \n",
              "2  Sami Bouajila, Tracy Gotoas, Samuel Jouy, Nabi...            NaN   \n",
              "3                                                               NaN   \n",
              "4  Mayur More, Jitendra Kumar, Ranjan Raj, Alam K...          India   \n",
              "\n",
              "           date_added  release_year rating   duration  \\\n",
              "0  September 25, 2021          2020  PG-13     90 min   \n",
              "1  September 24, 2021          2021  TV-MA  2 Seasons   \n",
              "2  September 24, 2021          2021  TV-MA   1 Season   \n",
              "3  September 24, 2021          2021  TV-MA   1 Season   \n",
              "4  September 24, 2021          2021  TV-MA  2 Seasons   \n",
              "\n",
              "                                           listed_in  \\\n",
              "0                                      Documentaries   \n",
              "1    International TV Shows, TV Dramas, TV Mysteries   \n",
              "2  Crime TV Shows, International TV Shows, TV Act...   \n",
              "3                             Docuseries, Reality TV   \n",
              "4  International TV Shows, Romantic TV Shows, TV ...   \n",
              "\n",
              "                                         description  \\\n",
              "0  As her father nears the end of his life, filmm...   \n",
              "1  After crossing paths at a party, a Cape Town t...   \n",
              "2  To protect his family from a powerful drug lor...   \n",
              "3  Feuds, flirtations and toilet talk go down amo...   \n",
              "4  In a city of coaching centers known to train I...   \n",
              "\n",
              "                                                text  \n",
              "0  Dick Johnson Is Dead Kirsten Johnson  Document...  \n",
              "1  Blood & Water  Ama Qamata, Khosi Ngema, Gail M...  \n",
              "2  Ganglands Julien Leclercq Sami Bouajila, Tracy...  \n",
              "3  Jailbirds New Orleans   Docuseries, Reality TV...  \n",
              "4  Kota Factory  Mayur More, Jitendra Kumar, Ranj...  "
            ],
            "text/html": [
              "\n",
              "  <div id=\"df-e39b0696-55ae-4c5a-a6e6-c98eaaf9ae23\">\n",
              "    <div class=\"colab-df-container\">\n",
              "      <div>\n",
              "<style scoped>\n",
              "    .dataframe tbody tr th:only-of-type {\n",
              "        vertical-align: middle;\n",
              "    }\n",
              "\n",
              "    .dataframe tbody tr th {\n",
              "        vertical-align: top;\n",
              "    }\n",
              "\n",
              "    .dataframe thead th {\n",
              "        text-align: right;\n",
              "    }\n",
              "</style>\n",
              "<table border=\"1\" class=\"dataframe\">\n",
              "  <thead>\n",
              "    <tr style=\"text-align: right;\">\n",
              "      <th></th>\n",
              "      <th>show_id</th>\n",
              "      <th>type</th>\n",
              "      <th>title</th>\n",
              "      <th>director</th>\n",
              "      <th>cast</th>\n",
              "      <th>country</th>\n",
              "      <th>date_added</th>\n",
              "      <th>release_year</th>\n",
              "      <th>rating</th>\n",
              "      <th>duration</th>\n",
              "      <th>listed_in</th>\n",
              "      <th>description</th>\n",
              "      <th>text</th>\n",
              "    </tr>\n",
              "  </thead>\n",
              "  <tbody>\n",
              "    <tr>\n",
              "      <th>0</th>\n",
              "      <td>s1</td>\n",
              "      <td>Movie</td>\n",
              "      <td>Dick Johnson Is Dead</td>\n",
              "      <td>Kirsten Johnson</td>\n",
              "      <td></td>\n",
              "      <td>United States</td>\n",
              "      <td>September 25, 2021</td>\n",
              "      <td>2020</td>\n",
              "      <td>PG-13</td>\n",
              "      <td>90 min</td>\n",
              "      <td>Documentaries</td>\n",
              "      <td>As her father nears the end of his life, filmm...</td>\n",
              "      <td>Dick Johnson Is Dead Kirsten Johnson  Document...</td>\n",
              "    </tr>\n",
              "    <tr>\n",
              "      <th>1</th>\n",
              "      <td>s2</td>\n",
              "      <td>TV Show</td>\n",
              "      <td>Blood &amp; Water</td>\n",
              "      <td></td>\n",
              "      <td>Ama Qamata, Khosi Ngema, Gail Mabalane, Thaban...</td>\n",
              "      <td>South Africa</td>\n",
              "      <td>September 24, 2021</td>\n",
              "      <td>2021</td>\n",
              "      <td>TV-MA</td>\n",
              "      <td>2 Seasons</td>\n",
              "      <td>International TV Shows, TV Dramas, TV Mysteries</td>\n",
              "      <td>After crossing paths at a party, a Cape Town t...</td>\n",
              "      <td>Blood &amp; Water  Ama Qamata, Khosi Ngema, Gail M...</td>\n",
              "    </tr>\n",
              "    <tr>\n",
              "      <th>2</th>\n",
              "      <td>s3</td>\n",
              "      <td>TV Show</td>\n",
              "      <td>Ganglands</td>\n",
              "      <td>Julien Leclercq</td>\n",
              "      <td>Sami Bouajila, Tracy Gotoas, Samuel Jouy, Nabi...</td>\n",
              "      <td>NaN</td>\n",
              "      <td>September 24, 2021</td>\n",
              "      <td>2021</td>\n",
              "      <td>TV-MA</td>\n",
              "      <td>1 Season</td>\n",
              "      <td>Crime TV Shows, International TV Shows, TV Act...</td>\n",
              "      <td>To protect his family from a powerful drug lor...</td>\n",
              "      <td>Ganglands Julien Leclercq Sami Bouajila, Tracy...</td>\n",
              "    </tr>\n",
              "    <tr>\n",
              "      <th>3</th>\n",
              "      <td>s4</td>\n",
              "      <td>TV Show</td>\n",
              "      <td>Jailbirds New Orleans</td>\n",
              "      <td></td>\n",
              "      <td></td>\n",
              "      <td>NaN</td>\n",
              "      <td>September 24, 2021</td>\n",
              "      <td>2021</td>\n",
              "      <td>TV-MA</td>\n",
              "      <td>1 Season</td>\n",
              "      <td>Docuseries, Reality TV</td>\n",
              "      <td>Feuds, flirtations and toilet talk go down amo...</td>\n",
              "      <td>Jailbirds New Orleans   Docuseries, Reality TV...</td>\n",
              "    </tr>\n",
              "    <tr>\n",
              "      <th>4</th>\n",
              "      <td>s5</td>\n",
              "      <td>TV Show</td>\n",
              "      <td>Kota Factory</td>\n",
              "      <td></td>\n",
              "      <td>Mayur More, Jitendra Kumar, Ranjan Raj, Alam K...</td>\n",
              "      <td>India</td>\n",
              "      <td>September 24, 2021</td>\n",
              "      <td>2021</td>\n",
              "      <td>TV-MA</td>\n",
              "      <td>2 Seasons</td>\n",
              "      <td>International TV Shows, Romantic TV Shows, TV ...</td>\n",
              "      <td>In a city of coaching centers known to train I...</td>\n",
              "      <td>Kota Factory  Mayur More, Jitendra Kumar, Ranj...</td>\n",
              "    </tr>\n",
              "  </tbody>\n",
              "</table>\n",
              "</div>\n",
              "      <button class=\"colab-df-convert\" onclick=\"convertToInteractive('df-e39b0696-55ae-4c5a-a6e6-c98eaaf9ae23')\"\n",
              "              title=\"Convert this dataframe to an interactive table.\"\n",
              "              style=\"display:none;\">\n",
              "        \n",
              "  <svg xmlns=\"http://www.w3.org/2000/svg\" height=\"24px\"viewBox=\"0 0 24 24\"\n",
              "       width=\"24px\">\n",
              "    <path d=\"M0 0h24v24H0V0z\" fill=\"none\"/>\n",
              "    <path d=\"M18.56 5.44l.94 2.06.94-2.06 2.06-.94-2.06-.94-.94-2.06-.94 2.06-2.06.94zm-11 1L8.5 8.5l.94-2.06 2.06-.94-2.06-.94L8.5 2.5l-.94 2.06-2.06.94zm10 10l.94 2.06.94-2.06 2.06-.94-2.06-.94-.94-2.06-.94 2.06-2.06.94z\"/><path d=\"M17.41 7.96l-1.37-1.37c-.4-.4-.92-.59-1.43-.59-.52 0-1.04.2-1.43.59L10.3 9.45l-7.72 7.72c-.78.78-.78 2.05 0 2.83L4 21.41c.39.39.9.59 1.41.59.51 0 1.02-.2 1.41-.59l7.78-7.78 2.81-2.81c.8-.78.8-2.07 0-2.86zM5.41 20L4 18.59l7.72-7.72 1.47 1.35L5.41 20z\"/>\n",
              "  </svg>\n",
              "      </button>\n",
              "      \n",
              "  <style>\n",
              "    .colab-df-container {\n",
              "      display:flex;\n",
              "      flex-wrap:wrap;\n",
              "      gap: 12px;\n",
              "    }\n",
              "\n",
              "    .colab-df-convert {\n",
              "      background-color: #E8F0FE;\n",
              "      border: none;\n",
              "      border-radius: 50%;\n",
              "      cursor: pointer;\n",
              "      display: none;\n",
              "      fill: #1967D2;\n",
              "      height: 32px;\n",
              "      padding: 0 0 0 0;\n",
              "      width: 32px;\n",
              "    }\n",
              "\n",
              "    .colab-df-convert:hover {\n",
              "      background-color: #E2EBFA;\n",
              "      box-shadow: 0px 1px 2px rgba(60, 64, 67, 0.3), 0px 1px 3px 1px rgba(60, 64, 67, 0.15);\n",
              "      fill: #174EA6;\n",
              "    }\n",
              "\n",
              "    [theme=dark] .colab-df-convert {\n",
              "      background-color: #3B4455;\n",
              "      fill: #D2E3FC;\n",
              "    }\n",
              "\n",
              "    [theme=dark] .colab-df-convert:hover {\n",
              "      background-color: #434B5C;\n",
              "      box-shadow: 0px 1px 3px 1px rgba(0, 0, 0, 0.15);\n",
              "      filter: drop-shadow(0px 1px 2px rgba(0, 0, 0, 0.3));\n",
              "      fill: #FFFFFF;\n",
              "    }\n",
              "  </style>\n",
              "\n",
              "      <script>\n",
              "        const buttonEl =\n",
              "          document.querySelector('#df-e39b0696-55ae-4c5a-a6e6-c98eaaf9ae23 button.colab-df-convert');\n",
              "        buttonEl.style.display =\n",
              "          google.colab.kernel.accessAllowed ? 'block' : 'none';\n",
              "\n",
              "        async function convertToInteractive(key) {\n",
              "          const element = document.querySelector('#df-e39b0696-55ae-4c5a-a6e6-c98eaaf9ae23');\n",
              "          const dataTable =\n",
              "            await google.colab.kernel.invokeFunction('convertToInteractive',\n",
              "                                                     [key], {});\n",
              "          if (!dataTable) return;\n",
              "\n",
              "          const docLinkHtml = 'Like what you see? Visit the ' +\n",
              "            '<a target=\"_blank\" href=https://colab.research.google.com/notebooks/data_table.ipynb>data table notebook</a>'\n",
              "            + ' to learn more about interactive tables.';\n",
              "          element.innerHTML = '';\n",
              "          dataTable['output_type'] = 'display_data';\n",
              "          await google.colab.output.renderOutput(dataTable, element);\n",
              "          const docLink = document.createElement('div');\n",
              "          docLink.innerHTML = docLinkHtml;\n",
              "          element.appendChild(docLink);\n",
              "        }\n",
              "      </script>\n",
              "    </div>\n",
              "  </div>\n",
              "  "
            ]
          },
          "metadata": {},
          "execution_count": 46
        }
      ],
      "source": [
        "df_final.head()"
      ]
    },
    {
      "cell_type": "code",
      "execution_count": null,
      "id": "8495f4ab",
      "metadata": {
        "execution": {
          "iopub.execute_input": "2023-02-01T23:19:37.541702Z",
          "iopub.status.busy": "2023-02-01T23:19:37.541073Z",
          "iopub.status.idle": "2023-02-01T23:19:37.551432Z",
          "shell.execute_reply": "2023-02-01T23:19:37.550393Z"
        },
        "id": "8495f4ab",
        "outputId": "46f6cab5-e238-4b13-efd6-2d788a0d1a58",
        "papermill": {
          "duration": 0.033357,
          "end_time": "2023-02-01T23:19:37.553888",
          "exception": false,
          "start_time": "2023-02-01T23:19:37.520531",
          "status": "completed"
        },
        "tags": [],
        "colab": {
          "base_uri": "https://localhost:8080/",
          "height": 137
        }
      },
      "outputs": [
        {
          "output_type": "execute_result",
          "data": {
            "text/plain": [
              "'Dick Johnson Is Dead Kirsten Johnson  Documentaries As her father nears the end of his life, filmmaker Kirsten Johnson stages his death in inventive and comical ways to help them both face the inevitable. Blood & Water  Ama Qamata, Khosi Ngema, Gail Mabalane, Thabang Molaba, Dillon Windvogel, Natasha Thahane, Arno Greeff, Xolile Tshabalala, Getmore Sithole, Cindy Mahlangu, Ryle De Morny, Greteli Fincham, Sello Maake Ka-Ncube, Odwa Gwanya, Mekaila Mathys, Sandi Schultz, Duane Williams, Shamilla Miller, Patrick Mofokeng International TV Shows, TV Dramas, TV Mysteries After crossing paths at a party, a Cape Town teen sets out to prove whether a private-school swimming star is her sister who was abducted at birth. Ganglands Julien Leclercq Sami Bouajila, Tracy Gotoas, Samuel Jouy, Nabiha Akkari, Sofia Lesaffre, Salim Kechiouche, Noureddine Farihi, Geert Van Rampelberg, Bakary Diombera Crime TV Shows, International TV Shows, TV Action & Adventure To protect his family from a powerful drug l'"
            ],
            "application/vnd.google.colaboratory.intrinsic+json": {
              "type": "string"
            }
          },
          "metadata": {},
          "execution_count": 47
        }
      ],
      "source": [
        "text_total = \" \".join(df_final['text'])\n",
        "text_total[:1000]"
      ]
    },
    {
      "cell_type": "code",
      "execution_count": null,
      "id": "b5bcf10d",
      "metadata": {
        "execution": {
          "iopub.execute_input": "2023-02-01T23:19:37.594326Z",
          "iopub.status.busy": "2023-02-01T23:19:37.593664Z",
          "iopub.status.idle": "2023-02-01T23:19:37.641784Z",
          "shell.execute_reply": "2023-02-01T23:19:37.640358Z"
        },
        "id": "b5bcf10d",
        "outputId": "c92f5fe0-1462-40f8-8173-0043699dcd61",
        "papermill": {
          "duration": 0.072094,
          "end_time": "2023-02-01T23:19:37.645323",
          "exception": false,
          "start_time": "2023-02-01T23:19:37.573229",
          "status": "completed"
        },
        "tags": [],
        "colab": {
          "base_uri": "https://localhost:8080/"
        }
      },
      "outputs": [
        {
          "output_type": "stream",
          "name": "stdout",
          "text": [
            "\n",
            " !\"#$%&'()*+,-./0123456789:;=?@ABCDEFGHIJKLMNOPQRSTUVWXYZ_abcdefghijklmnopqrstuvwxyz|~ ¡¢£¤¥¦§¨©ª«¬­®¯°±²³´µ¶·¸¹º»¼½¾¿ÂÃÄÅÆÈÊÌØÙàáâãåæçèêëìíï\n",
            "172\n"
          ]
        }
      ],
      "source": [
        "chars = sorted(list(set(text_total)))\n",
        "vocab_size = len(chars)\n",
        "print(''.join(chars))\n",
        "print(vocab_size)"
      ]
    },
    {
      "cell_type": "code",
      "execution_count": null,
      "id": "e9660edc",
      "metadata": {
        "execution": {
          "iopub.execute_input": "2023-02-01T23:19:37.732648Z",
          "iopub.status.busy": "2023-02-01T23:19:37.732241Z",
          "iopub.status.idle": "2023-02-01T23:19:39.699088Z",
          "shell.execute_reply": "2023-02-01T23:19:39.697767Z"
        },
        "id": "e9660edc",
        "outputId": "9a168c8b-9a6b-4f1b-9e6b-3d072d29ce79",
        "papermill": {
          "duration": 1.989491,
          "end_time": "2023-02-01T23:19:39.701723",
          "exception": false,
          "start_time": "2023-02-01T23:19:37.712232",
          "status": "completed"
        },
        "tags": [],
        "colab": {
          "base_uri": "https://localhost:8080/"
        }
      },
      "outputs": [
        {
          "output_type": "stream",
          "name": "stderr",
          "text": [
            "[nltk_data] Downloading collection 'popular'\n",
            "[nltk_data]    | \n",
            "[nltk_data]    | Downloading package cmudict to /root/nltk_data...\n",
            "[nltk_data]    |   Unzipping corpora/cmudict.zip.\n",
            "[nltk_data]    | Downloading package gazetteers to /root/nltk_data...\n",
            "[nltk_data]    |   Unzipping corpora/gazetteers.zip.\n",
            "[nltk_data]    | Downloading package genesis to /root/nltk_data...\n",
            "[nltk_data]    |   Unzipping corpora/genesis.zip.\n",
            "[nltk_data]    | Downloading package gutenberg to /root/nltk_data...\n",
            "[nltk_data]    |   Unzipping corpora/gutenberg.zip.\n",
            "[nltk_data]    | Downloading package inaugural to /root/nltk_data...\n",
            "[nltk_data]    |   Unzipping corpora/inaugural.zip.\n",
            "[nltk_data]    | Downloading package movie_reviews to\n",
            "[nltk_data]    |     /root/nltk_data...\n",
            "[nltk_data]    |   Unzipping corpora/movie_reviews.zip.\n",
            "[nltk_data]    | Downloading package names to /root/nltk_data...\n",
            "[nltk_data]    |   Unzipping corpora/names.zip.\n",
            "[nltk_data]    | Downloading package shakespeare to /root/nltk_data...\n",
            "[nltk_data]    |   Unzipping corpora/shakespeare.zip.\n",
            "[nltk_data]    | Downloading package stopwords to /root/nltk_data...\n",
            "[nltk_data]    |   Unzipping corpora/stopwords.zip.\n",
            "[nltk_data]    | Downloading package treebank to /root/nltk_data...\n",
            "[nltk_data]    |   Unzipping corpora/treebank.zip.\n",
            "[nltk_data]    | Downloading package twitter_samples to\n",
            "[nltk_data]    |     /root/nltk_data...\n",
            "[nltk_data]    |   Unzipping corpora/twitter_samples.zip.\n",
            "[nltk_data]    | Downloading package omw to /root/nltk_data...\n",
            "[nltk_data]    | Downloading package omw-1.4 to /root/nltk_data...\n",
            "[nltk_data]    | Downloading package wordnet to /root/nltk_data...\n",
            "[nltk_data]    | Downloading package wordnet2021 to /root/nltk_data...\n",
            "[nltk_data]    | Downloading package wordnet31 to /root/nltk_data...\n",
            "[nltk_data]    | Downloading package wordnet_ic to /root/nltk_data...\n",
            "[nltk_data]    |   Unzipping corpora/wordnet_ic.zip.\n",
            "[nltk_data]    | Downloading package words to /root/nltk_data...\n",
            "[nltk_data]    |   Unzipping corpora/words.zip.\n",
            "[nltk_data]    | Downloading package maxent_ne_chunker to\n",
            "[nltk_data]    |     /root/nltk_data...\n",
            "[nltk_data]    |   Unzipping chunkers/maxent_ne_chunker.zip.\n",
            "[nltk_data]    | Downloading package punkt to /root/nltk_data...\n",
            "[nltk_data]    |   Unzipping tokenizers/punkt.zip.\n",
            "[nltk_data]    | Downloading package snowball_data to\n",
            "[nltk_data]    |     /root/nltk_data...\n",
            "[nltk_data]    | Downloading package averaged_perceptron_tagger to\n",
            "[nltk_data]    |     /root/nltk_data...\n",
            "[nltk_data]    |   Unzipping taggers/averaged_perceptron_tagger.zip.\n",
            "[nltk_data]    | \n",
            "[nltk_data]  Done downloading collection popular\n"
          ]
        },
        {
          "output_type": "execute_result",
          "data": {
            "text/plain": [
              "True"
            ]
          },
          "metadata": {},
          "execution_count": 49
        }
      ],
      "source": [
        "#Building human language data\n",
        "from nltk.corpus import stopwords  \n",
        "from nltk.tokenize import word_tokenize  \n",
        "import nltk\n",
        "import re\n",
        "nltk.download(\"popular\")"
      ]
    },
    {
      "cell_type": "code",
      "execution_count": null,
      "id": "61fc86ba",
      "metadata": {
        "execution": {
          "iopub.execute_input": "2023-02-01T23:19:39.743061Z",
          "iopub.status.busy": "2023-02-01T23:19:39.742631Z",
          "iopub.status.idle": "2023-02-01T23:19:39.750166Z",
          "shell.execute_reply": "2023-02-01T23:19:39.748944Z"
        },
        "id": "61fc86ba",
        "papermill": {
          "duration": 0.031093,
          "end_time": "2023-02-01T23:19:39.752457",
          "exception": false,
          "start_time": "2023-02-01T23:19:39.721364",
          "status": "completed"
        },
        "tags": []
      },
      "outputs": [],
      "source": [
        "def preprocess(text):\n",
        "    text = text.lower()  \n",
        "    text = re.sub('[^A-z]', ' ', text)\n",
        "    stop_words = set(stopwords.words('english'))  \n",
        "    word_tokens = word_tokenize(text)  \n",
        "    lemmatizer = nltk.stem.WordNetLemmatizer()\n",
        "    \n",
        "    filtered_sentence = []  \n",
        "    for w in word_tokens:  \n",
        "        if w not in stop_words:  \n",
        "            filtered_sentence.append(lemmatizer.lemmatize(w))\n",
        "    filtered = ' '.join([x for x in filtered_sentence])\n",
        "    return filtered.lower().strip()"
      ]
    },
    {
      "cell_type": "code",
      "execution_count": null,
      "id": "e91dbc22",
      "metadata": {
        "execution": {
          "iopub.execute_input": "2023-02-01T23:19:39.793541Z",
          "iopub.status.busy": "2023-02-01T23:19:39.792518Z",
          "iopub.status.idle": "2023-02-01T23:19:48.039336Z",
          "shell.execute_reply": "2023-02-01T23:19:48.038144Z"
        },
        "id": "e91dbc22",
        "papermill": {
          "duration": 8.270238,
          "end_time": "2023-02-01T23:19:48.042201",
          "exception": false,
          "start_time": "2023-02-01T23:19:39.771963",
          "status": "completed"
        },
        "tags": []
      },
      "outputs": [],
      "source": [
        "df_final['cleaned_text'] = df_final['text'].apply(lambda x : preprocess(x))"
      ]
    },
    {
      "cell_type": "code",
      "execution_count": null,
      "id": "5ef9c66d",
      "metadata": {
        "execution": {
          "iopub.execute_input": "2023-02-01T23:19:48.083536Z",
          "iopub.status.busy": "2023-02-01T23:19:48.083081Z",
          "iopub.status.idle": "2023-02-01T23:19:48.102641Z",
          "shell.execute_reply": "2023-02-01T23:19:48.101799Z"
        },
        "id": "5ef9c66d",
        "outputId": "accd7c0f-1e5a-4e0d-8bb2-8f0b6e22ec0f",
        "papermill": {
          "duration": 0.042756,
          "end_time": "2023-02-01T23:19:48.104845",
          "exception": false,
          "start_time": "2023-02-01T23:19:48.062089",
          "status": "completed"
        },
        "tags": [],
        "colab": {
          "base_uri": "https://localhost:8080/",
          "height": 605
        }
      },
      "outputs": [
        {
          "output_type": "execute_result",
          "data": {
            "text/plain": [
              "  show_id     type                  title         director  \\\n",
              "0      s1    Movie   Dick Johnson Is Dead  Kirsten Johnson   \n",
              "1      s2  TV Show          Blood & Water                    \n",
              "2      s3  TV Show              Ganglands  Julien Leclercq   \n",
              "3      s4  TV Show  Jailbirds New Orleans                    \n",
              "4      s5  TV Show           Kota Factory                    \n",
              "\n",
              "                                                cast        country  \\\n",
              "0                                                     United States   \n",
              "1  Ama Qamata, Khosi Ngema, Gail Mabalane, Thaban...   South Africa   \n",
              "2  Sami Bouajila, Tracy Gotoas, Samuel Jouy, Nabi...            NaN   \n",
              "3                                                               NaN   \n",
              "4  Mayur More, Jitendra Kumar, Ranjan Raj, Alam K...          India   \n",
              "\n",
              "           date_added  release_year rating   duration  \\\n",
              "0  September 25, 2021          2020  PG-13     90 min   \n",
              "1  September 24, 2021          2021  TV-MA  2 Seasons   \n",
              "2  September 24, 2021          2021  TV-MA   1 Season   \n",
              "3  September 24, 2021          2021  TV-MA   1 Season   \n",
              "4  September 24, 2021          2021  TV-MA  2 Seasons   \n",
              "\n",
              "                                           listed_in  \\\n",
              "0                                      Documentaries   \n",
              "1    International TV Shows, TV Dramas, TV Mysteries   \n",
              "2  Crime TV Shows, International TV Shows, TV Act...   \n",
              "3                             Docuseries, Reality TV   \n",
              "4  International TV Shows, Romantic TV Shows, TV ...   \n",
              "\n",
              "                                         description  \\\n",
              "0  As her father nears the end of his life, filmm...   \n",
              "1  After crossing paths at a party, a Cape Town t...   \n",
              "2  To protect his family from a powerful drug lor...   \n",
              "3  Feuds, flirtations and toilet talk go down amo...   \n",
              "4  In a city of coaching centers known to train I...   \n",
              "\n",
              "                                                text  \\\n",
              "0  Dick Johnson Is Dead Kirsten Johnson  Document...   \n",
              "1  Blood & Water  Ama Qamata, Khosi Ngema, Gail M...   \n",
              "2  Ganglands Julien Leclercq Sami Bouajila, Tracy...   \n",
              "3  Jailbirds New Orleans   Docuseries, Reality TV...   \n",
              "4  Kota Factory  Mayur More, Jitendra Kumar, Ranj...   \n",
              "\n",
              "                                        cleaned_text  \n",
              "0  dick johnson dead kirsten johnson documentary ...  \n",
              "1  blood water ama qamata khosi ngema gail mabala...  \n",
              "2  gangland julien leclercq sami bouajila tracy g...  \n",
              "3  jailbird new orleans docuseries reality tv feu...  \n",
              "4  kota factory mayur jitendra kumar ranjan raj a...  "
            ],
            "text/html": [
              "\n",
              "  <div id=\"df-3450da50-6b28-4e37-b6a8-751d80fa7828\">\n",
              "    <div class=\"colab-df-container\">\n",
              "      <div>\n",
              "<style scoped>\n",
              "    .dataframe tbody tr th:only-of-type {\n",
              "        vertical-align: middle;\n",
              "    }\n",
              "\n",
              "    .dataframe tbody tr th {\n",
              "        vertical-align: top;\n",
              "    }\n",
              "\n",
              "    .dataframe thead th {\n",
              "        text-align: right;\n",
              "    }\n",
              "</style>\n",
              "<table border=\"1\" class=\"dataframe\">\n",
              "  <thead>\n",
              "    <tr style=\"text-align: right;\">\n",
              "      <th></th>\n",
              "      <th>show_id</th>\n",
              "      <th>type</th>\n",
              "      <th>title</th>\n",
              "      <th>director</th>\n",
              "      <th>cast</th>\n",
              "      <th>country</th>\n",
              "      <th>date_added</th>\n",
              "      <th>release_year</th>\n",
              "      <th>rating</th>\n",
              "      <th>duration</th>\n",
              "      <th>listed_in</th>\n",
              "      <th>description</th>\n",
              "      <th>text</th>\n",
              "      <th>cleaned_text</th>\n",
              "    </tr>\n",
              "  </thead>\n",
              "  <tbody>\n",
              "    <tr>\n",
              "      <th>0</th>\n",
              "      <td>s1</td>\n",
              "      <td>Movie</td>\n",
              "      <td>Dick Johnson Is Dead</td>\n",
              "      <td>Kirsten Johnson</td>\n",
              "      <td></td>\n",
              "      <td>United States</td>\n",
              "      <td>September 25, 2021</td>\n",
              "      <td>2020</td>\n",
              "      <td>PG-13</td>\n",
              "      <td>90 min</td>\n",
              "      <td>Documentaries</td>\n",
              "      <td>As her father nears the end of his life, filmm...</td>\n",
              "      <td>Dick Johnson Is Dead Kirsten Johnson  Document...</td>\n",
              "      <td>dick johnson dead kirsten johnson documentary ...</td>\n",
              "    </tr>\n",
              "    <tr>\n",
              "      <th>1</th>\n",
              "      <td>s2</td>\n",
              "      <td>TV Show</td>\n",
              "      <td>Blood &amp; Water</td>\n",
              "      <td></td>\n",
              "      <td>Ama Qamata, Khosi Ngema, Gail Mabalane, Thaban...</td>\n",
              "      <td>South Africa</td>\n",
              "      <td>September 24, 2021</td>\n",
              "      <td>2021</td>\n",
              "      <td>TV-MA</td>\n",
              "      <td>2 Seasons</td>\n",
              "      <td>International TV Shows, TV Dramas, TV Mysteries</td>\n",
              "      <td>After crossing paths at a party, a Cape Town t...</td>\n",
              "      <td>Blood &amp; Water  Ama Qamata, Khosi Ngema, Gail M...</td>\n",
              "      <td>blood water ama qamata khosi ngema gail mabala...</td>\n",
              "    </tr>\n",
              "    <tr>\n",
              "      <th>2</th>\n",
              "      <td>s3</td>\n",
              "      <td>TV Show</td>\n",
              "      <td>Ganglands</td>\n",
              "      <td>Julien Leclercq</td>\n",
              "      <td>Sami Bouajila, Tracy Gotoas, Samuel Jouy, Nabi...</td>\n",
              "      <td>NaN</td>\n",
              "      <td>September 24, 2021</td>\n",
              "      <td>2021</td>\n",
              "      <td>TV-MA</td>\n",
              "      <td>1 Season</td>\n",
              "      <td>Crime TV Shows, International TV Shows, TV Act...</td>\n",
              "      <td>To protect his family from a powerful drug lor...</td>\n",
              "      <td>Ganglands Julien Leclercq Sami Bouajila, Tracy...</td>\n",
              "      <td>gangland julien leclercq sami bouajila tracy g...</td>\n",
              "    </tr>\n",
              "    <tr>\n",
              "      <th>3</th>\n",
              "      <td>s4</td>\n",
              "      <td>TV Show</td>\n",
              "      <td>Jailbirds New Orleans</td>\n",
              "      <td></td>\n",
              "      <td></td>\n",
              "      <td>NaN</td>\n",
              "      <td>September 24, 2021</td>\n",
              "      <td>2021</td>\n",
              "      <td>TV-MA</td>\n",
              "      <td>1 Season</td>\n",
              "      <td>Docuseries, Reality TV</td>\n",
              "      <td>Feuds, flirtations and toilet talk go down amo...</td>\n",
              "      <td>Jailbirds New Orleans   Docuseries, Reality TV...</td>\n",
              "      <td>jailbird new orleans docuseries reality tv feu...</td>\n",
              "    </tr>\n",
              "    <tr>\n",
              "      <th>4</th>\n",
              "      <td>s5</td>\n",
              "      <td>TV Show</td>\n",
              "      <td>Kota Factory</td>\n",
              "      <td></td>\n",
              "      <td>Mayur More, Jitendra Kumar, Ranjan Raj, Alam K...</td>\n",
              "      <td>India</td>\n",
              "      <td>September 24, 2021</td>\n",
              "      <td>2021</td>\n",
              "      <td>TV-MA</td>\n",
              "      <td>2 Seasons</td>\n",
              "      <td>International TV Shows, Romantic TV Shows, TV ...</td>\n",
              "      <td>In a city of coaching centers known to train I...</td>\n",
              "      <td>Kota Factory  Mayur More, Jitendra Kumar, Ranj...</td>\n",
              "      <td>kota factory mayur jitendra kumar ranjan raj a...</td>\n",
              "    </tr>\n",
              "  </tbody>\n",
              "</table>\n",
              "</div>\n",
              "      <button class=\"colab-df-convert\" onclick=\"convertToInteractive('df-3450da50-6b28-4e37-b6a8-751d80fa7828')\"\n",
              "              title=\"Convert this dataframe to an interactive table.\"\n",
              "              style=\"display:none;\">\n",
              "        \n",
              "  <svg xmlns=\"http://www.w3.org/2000/svg\" height=\"24px\"viewBox=\"0 0 24 24\"\n",
              "       width=\"24px\">\n",
              "    <path d=\"M0 0h24v24H0V0z\" fill=\"none\"/>\n",
              "    <path d=\"M18.56 5.44l.94 2.06.94-2.06 2.06-.94-2.06-.94-.94-2.06-.94 2.06-2.06.94zm-11 1L8.5 8.5l.94-2.06 2.06-.94-2.06-.94L8.5 2.5l-.94 2.06-2.06.94zm10 10l.94 2.06.94-2.06 2.06-.94-2.06-.94-.94-2.06-.94 2.06-2.06.94z\"/><path d=\"M17.41 7.96l-1.37-1.37c-.4-.4-.92-.59-1.43-.59-.52 0-1.04.2-1.43.59L10.3 9.45l-7.72 7.72c-.78.78-.78 2.05 0 2.83L4 21.41c.39.39.9.59 1.41.59.51 0 1.02-.2 1.41-.59l7.78-7.78 2.81-2.81c.8-.78.8-2.07 0-2.86zM5.41 20L4 18.59l7.72-7.72 1.47 1.35L5.41 20z\"/>\n",
              "  </svg>\n",
              "      </button>\n",
              "      \n",
              "  <style>\n",
              "    .colab-df-container {\n",
              "      display:flex;\n",
              "      flex-wrap:wrap;\n",
              "      gap: 12px;\n",
              "    }\n",
              "\n",
              "    .colab-df-convert {\n",
              "      background-color: #E8F0FE;\n",
              "      border: none;\n",
              "      border-radius: 50%;\n",
              "      cursor: pointer;\n",
              "      display: none;\n",
              "      fill: #1967D2;\n",
              "      height: 32px;\n",
              "      padding: 0 0 0 0;\n",
              "      width: 32px;\n",
              "    }\n",
              "\n",
              "    .colab-df-convert:hover {\n",
              "      background-color: #E2EBFA;\n",
              "      box-shadow: 0px 1px 2px rgba(60, 64, 67, 0.3), 0px 1px 3px 1px rgba(60, 64, 67, 0.15);\n",
              "      fill: #174EA6;\n",
              "    }\n",
              "\n",
              "    [theme=dark] .colab-df-convert {\n",
              "      background-color: #3B4455;\n",
              "      fill: #D2E3FC;\n",
              "    }\n",
              "\n",
              "    [theme=dark] .colab-df-convert:hover {\n",
              "      background-color: #434B5C;\n",
              "      box-shadow: 0px 1px 3px 1px rgba(0, 0, 0, 0.15);\n",
              "      filter: drop-shadow(0px 1px 2px rgba(0, 0, 0, 0.3));\n",
              "      fill: #FFFFFF;\n",
              "    }\n",
              "  </style>\n",
              "\n",
              "      <script>\n",
              "        const buttonEl =\n",
              "          document.querySelector('#df-3450da50-6b28-4e37-b6a8-751d80fa7828 button.colab-df-convert');\n",
              "        buttonEl.style.display =\n",
              "          google.colab.kernel.accessAllowed ? 'block' : 'none';\n",
              "\n",
              "        async function convertToInteractive(key) {\n",
              "          const element = document.querySelector('#df-3450da50-6b28-4e37-b6a8-751d80fa7828');\n",
              "          const dataTable =\n",
              "            await google.colab.kernel.invokeFunction('convertToInteractive',\n",
              "                                                     [key], {});\n",
              "          if (!dataTable) return;\n",
              "\n",
              "          const docLinkHtml = 'Like what you see? Visit the ' +\n",
              "            '<a target=\"_blank\" href=https://colab.research.google.com/notebooks/data_table.ipynb>data table notebook</a>'\n",
              "            + ' to learn more about interactive tables.';\n",
              "          element.innerHTML = '';\n",
              "          dataTable['output_type'] = 'display_data';\n",
              "          await google.colab.output.renderOutput(dataTable, element);\n",
              "          const docLink = document.createElement('div');\n",
              "          docLink.innerHTML = docLinkHtml;\n",
              "          element.appendChild(docLink);\n",
              "        }\n",
              "      </script>\n",
              "    </div>\n",
              "  </div>\n",
              "  "
            ]
          },
          "metadata": {},
          "execution_count": 52
        }
      ],
      "source": [
        "df_final.head()"
      ]
    },
    {
      "cell_type": "code",
      "execution_count": null,
      "id": "93b80128",
      "metadata": {
        "execution": {
          "iopub.execute_input": "2023-02-01T23:19:48.147096Z",
          "iopub.status.busy": "2023-02-01T23:19:48.146638Z",
          "iopub.status.idle": "2023-02-01T23:19:48.190315Z",
          "shell.execute_reply": "2023-02-01T23:19:48.189063Z"
        },
        "id": "93b80128",
        "outputId": "70a27c30-fe5c-4166-8454-db7bbafffa27",
        "papermill": {
          "duration": 0.067901,
          "end_time": "2023-02-01T23:19:48.192904",
          "exception": false,
          "start_time": "2023-02-01T23:19:48.125003",
          "status": "completed"
        },
        "tags": [],
        "colab": {
          "base_uri": "https://localhost:8080/"
        }
      },
      "outputs": [
        {
          "output_type": "stream",
          "name": "stdout",
          "text": [
            " _abcdefghijklmnopqrstuvwxyz\n",
            "28\n"
          ]
        }
      ],
      "source": [
        "text_total = \" \".join(df_final['cleaned_text'])\n",
        "chars = sorted(list(set(text_total)))\n",
        "vocab_size = len(chars)\n",
        "print(''.join(chars))\n",
        "print(vocab_size)"
      ]
    },
    {
      "cell_type": "code",
      "execution_count": null,
      "id": "c5c18488",
      "metadata": {
        "execution": {
          "iopub.execute_input": "2023-02-01T23:19:48.235106Z",
          "iopub.status.busy": "2023-02-01T23:19:48.234444Z",
          "iopub.status.idle": "2023-02-01T23:19:48.701342Z",
          "shell.execute_reply": "2023-02-01T23:19:48.700167Z"
        },
        "id": "c5c18488",
        "papermill": {
          "duration": 0.491084,
          "end_time": "2023-02-01T23:19:48.703987",
          "exception": false,
          "start_time": "2023-02-01T23:19:48.212903",
          "status": "completed"
        },
        "tags": []
      },
      "outputs": [],
      "source": [
        "from sklearn.feature_extraction.text import TfidfVectorizer\n",
        "vectorizer = TfidfVectorizer()\n",
        "text_features = vectorizer.fit_transform(df_final['cleaned_text'])"
      ]
    },
    {
      "cell_type": "code",
      "execution_count": null,
      "id": "fed40af4",
      "metadata": {
        "execution": {
          "iopub.execute_input": "2023-02-01T23:19:48.746029Z",
          "iopub.status.busy": "2023-02-01T23:19:48.745586Z",
          "iopub.status.idle": "2023-02-01T23:19:51.453824Z",
          "shell.execute_reply": "2023-02-01T23:19:51.452904Z"
        },
        "id": "fed40af4",
        "papermill": {
          "duration": 2.732185,
          "end_time": "2023-02-01T23:19:51.456377",
          "exception": false,
          "start_time": "2023-02-01T23:19:48.724192",
          "status": "completed"
        },
        "tags": []
      },
      "outputs": [],
      "source": [
        "from sklearn.metrics.pairwise import cosine_similarity\n",
        "similarity_matrix = cosine_similarity(text_features)"
      ]
    },
    {
      "cell_type": "code",
      "execution_count": null,
      "id": "4b293970",
      "metadata": {
        "execution": {
          "iopub.execute_input": "2023-02-01T23:19:51.499122Z",
          "iopub.status.busy": "2023-02-01T23:19:51.498172Z",
          "iopub.status.idle": "2023-02-01T23:19:51.504336Z",
          "shell.execute_reply": "2023-02-01T23:19:51.503505Z"
        },
        "id": "4b293970",
        "papermill": {
          "duration": 0.029917,
          "end_time": "2023-02-01T23:19:51.506508",
          "exception": false,
          "start_time": "2023-02-01T23:19:51.476591",
          "status": "completed"
        },
        "tags": []
      },
      "outputs": [],
      "source": [
        "#The final output to get the recommendation by film's title\n",
        "def get_recommendations(title):\n",
        "    idx = lists[title]\n",
        "    sim_scores = list(enumerate(similarity_matrix[idx]))\n",
        "    sim_scores = sorted(sim_scores, key=lambda x: x[1], reverse=True)\n",
        "    sim_scores = sim_scores[1:11]\n",
        "    movie_lists = [i[0] for i in sim_scores]\n",
        "    return df_final[['title','listed_in','description']].iloc[movie_lists]"
      ]
    },
    {
      "cell_type": "code",
      "execution_count": null,
      "id": "817191ae",
      "metadata": {
        "execution": {
          "iopub.execute_input": "2023-02-01T23:19:51.548719Z",
          "iopub.status.busy": "2023-02-01T23:19:51.548103Z",
          "iopub.status.idle": "2023-02-01T23:19:51.570235Z",
          "shell.execute_reply": "2023-02-01T23:19:51.569399Z"
        },
        "id": "817191ae",
        "outputId": "8d396433-f740-434d-f091-c1d463224ff9",
        "papermill": {
          "duration": 0.045799,
          "end_time": "2023-02-01T23:19:51.572389",
          "exception": false,
          "start_time": "2023-02-01T23:19:51.526590",
          "status": "completed"
        },
        "tags": [],
        "colab": {
          "base_uri": "https://localhost:8080/",
          "height": 359
        }
      },
      "outputs": [
        {
          "output_type": "execute_result",
          "data": {
            "text/plain": [
              "                                               title  \\\n",
              "6806                                         Friends   \n",
              "4015           The Disappearance of Madeleine McCann   \n",
              "2294                                      Desperados   \n",
              "5090                                        Episodes   \n",
              "4682           Chicken Soup for the Soul's Being Dad   \n",
              "6372                                Brave New Jersey   \n",
              "8083                                    Star-Crossed   \n",
              "7176  Ken Burns: The Roosevelts: An Intimate History   \n",
              "4806                                         Calibre   \n",
              "8532                        The Time Traveler's Wife   \n",
              "\n",
              "                                              listed_in  \\\n",
              "6806                     Classic & Cult TV, TV Comedies   \n",
              "4015                         Crime TV Shows, Docuseries   \n",
              "2294                          Comedies, Romantic Movies   \n",
              "5090                     Classic & Cult TV, TV Comedies   \n",
              "4682                                         Docuseries   \n",
              "6372                       Comedies, Independent Movies   \n",
              "8083  Romantic TV Shows, TV Dramas, TV Sci-Fi & Fantasy   \n",
              "7176                                         Docuseries   \n",
              "4806            Dramas, International Movies, Thrillers   \n",
              "8532          Dramas, Romantic Movies, Sci-Fi & Fantasy   \n",
              "\n",
              "                                            description  \n",
              "6806  This hit sitcom follows the merry misadventure...  \n",
              "4015  The documentary takes a detailed look at the d...  \n",
              "2294  After drunkenly sending a cringeworthy email, ...  \n",
              "5090  Hoping to create an American version of their ...  \n",
              "4682  Nine dads around America with different family...  \n",
              "6372  Small-town residents mistake an Orson Welles r...  \n",
              "8083  The passionate love between an alien boy and a...  \n",
              "7176  Award-winning documentarian Burns profiles thr...  \n",
              "4806  Two lifelong friends on a hunting trip in Scot...  \n",
              "8532  Due to a genetic disorder, handsome librarian ...  "
            ],
            "text/html": [
              "\n",
              "  <div id=\"df-d4359b1d-9a0d-447e-a7e4-b49623a9adf8\">\n",
              "    <div class=\"colab-df-container\">\n",
              "      <div>\n",
              "<style scoped>\n",
              "    .dataframe tbody tr th:only-of-type {\n",
              "        vertical-align: middle;\n",
              "    }\n",
              "\n",
              "    .dataframe tbody tr th {\n",
              "        vertical-align: top;\n",
              "    }\n",
              "\n",
              "    .dataframe thead th {\n",
              "        text-align: right;\n",
              "    }\n",
              "</style>\n",
              "<table border=\"1\" class=\"dataframe\">\n",
              "  <thead>\n",
              "    <tr style=\"text-align: right;\">\n",
              "      <th></th>\n",
              "      <th>title</th>\n",
              "      <th>listed_in</th>\n",
              "      <th>description</th>\n",
              "    </tr>\n",
              "  </thead>\n",
              "  <tbody>\n",
              "    <tr>\n",
              "      <th>6806</th>\n",
              "      <td>Friends</td>\n",
              "      <td>Classic &amp; Cult TV, TV Comedies</td>\n",
              "      <td>This hit sitcom follows the merry misadventure...</td>\n",
              "    </tr>\n",
              "    <tr>\n",
              "      <th>4015</th>\n",
              "      <td>The Disappearance of Madeleine McCann</td>\n",
              "      <td>Crime TV Shows, Docuseries</td>\n",
              "      <td>The documentary takes a detailed look at the d...</td>\n",
              "    </tr>\n",
              "    <tr>\n",
              "      <th>2294</th>\n",
              "      <td>Desperados</td>\n",
              "      <td>Comedies, Romantic Movies</td>\n",
              "      <td>After drunkenly sending a cringeworthy email, ...</td>\n",
              "    </tr>\n",
              "    <tr>\n",
              "      <th>5090</th>\n",
              "      <td>Episodes</td>\n",
              "      <td>Classic &amp; Cult TV, TV Comedies</td>\n",
              "      <td>Hoping to create an American version of their ...</td>\n",
              "    </tr>\n",
              "    <tr>\n",
              "      <th>4682</th>\n",
              "      <td>Chicken Soup for the Soul's Being Dad</td>\n",
              "      <td>Docuseries</td>\n",
              "      <td>Nine dads around America with different family...</td>\n",
              "    </tr>\n",
              "    <tr>\n",
              "      <th>6372</th>\n",
              "      <td>Brave New Jersey</td>\n",
              "      <td>Comedies, Independent Movies</td>\n",
              "      <td>Small-town residents mistake an Orson Welles r...</td>\n",
              "    </tr>\n",
              "    <tr>\n",
              "      <th>8083</th>\n",
              "      <td>Star-Crossed</td>\n",
              "      <td>Romantic TV Shows, TV Dramas, TV Sci-Fi &amp; Fantasy</td>\n",
              "      <td>The passionate love between an alien boy and a...</td>\n",
              "    </tr>\n",
              "    <tr>\n",
              "      <th>7176</th>\n",
              "      <td>Ken Burns: The Roosevelts: An Intimate History</td>\n",
              "      <td>Docuseries</td>\n",
              "      <td>Award-winning documentarian Burns profiles thr...</td>\n",
              "    </tr>\n",
              "    <tr>\n",
              "      <th>4806</th>\n",
              "      <td>Calibre</td>\n",
              "      <td>Dramas, International Movies, Thrillers</td>\n",
              "      <td>Two lifelong friends on a hunting trip in Scot...</td>\n",
              "    </tr>\n",
              "    <tr>\n",
              "      <th>8532</th>\n",
              "      <td>The Time Traveler's Wife</td>\n",
              "      <td>Dramas, Romantic Movies, Sci-Fi &amp; Fantasy</td>\n",
              "      <td>Due to a genetic disorder, handsome librarian ...</td>\n",
              "    </tr>\n",
              "  </tbody>\n",
              "</table>\n",
              "</div>\n",
              "      <button class=\"colab-df-convert\" onclick=\"convertToInteractive('df-d4359b1d-9a0d-447e-a7e4-b49623a9adf8')\"\n",
              "              title=\"Convert this dataframe to an interactive table.\"\n",
              "              style=\"display:none;\">\n",
              "        \n",
              "  <svg xmlns=\"http://www.w3.org/2000/svg\" height=\"24px\"viewBox=\"0 0 24 24\"\n",
              "       width=\"24px\">\n",
              "    <path d=\"M0 0h24v24H0V0z\" fill=\"none\"/>\n",
              "    <path d=\"M18.56 5.44l.94 2.06.94-2.06 2.06-.94-2.06-.94-.94-2.06-.94 2.06-2.06.94zm-11 1L8.5 8.5l.94-2.06 2.06-.94-2.06-.94L8.5 2.5l-.94 2.06-2.06.94zm10 10l.94 2.06.94-2.06 2.06-.94-2.06-.94-.94-2.06-.94 2.06-2.06.94z\"/><path d=\"M17.41 7.96l-1.37-1.37c-.4-.4-.92-.59-1.43-.59-.52 0-1.04.2-1.43.59L10.3 9.45l-7.72 7.72c-.78.78-.78 2.05 0 2.83L4 21.41c.39.39.9.59 1.41.59.51 0 1.02-.2 1.41-.59l7.78-7.78 2.81-2.81c.8-.78.8-2.07 0-2.86zM5.41 20L4 18.59l7.72-7.72 1.47 1.35L5.41 20z\"/>\n",
              "  </svg>\n",
              "      </button>\n",
              "      \n",
              "  <style>\n",
              "    .colab-df-container {\n",
              "      display:flex;\n",
              "      flex-wrap:wrap;\n",
              "      gap: 12px;\n",
              "    }\n",
              "\n",
              "    .colab-df-convert {\n",
              "      background-color: #E8F0FE;\n",
              "      border: none;\n",
              "      border-radius: 50%;\n",
              "      cursor: pointer;\n",
              "      display: none;\n",
              "      fill: #1967D2;\n",
              "      height: 32px;\n",
              "      padding: 0 0 0 0;\n",
              "      width: 32px;\n",
              "    }\n",
              "\n",
              "    .colab-df-convert:hover {\n",
              "      background-color: #E2EBFA;\n",
              "      box-shadow: 0px 1px 2px rgba(60, 64, 67, 0.3), 0px 1px 3px 1px rgba(60, 64, 67, 0.15);\n",
              "      fill: #174EA6;\n",
              "    }\n",
              "\n",
              "    [theme=dark] .colab-df-convert {\n",
              "      background-color: #3B4455;\n",
              "      fill: #D2E3FC;\n",
              "    }\n",
              "\n",
              "    [theme=dark] .colab-df-convert:hover {\n",
              "      background-color: #434B5C;\n",
              "      box-shadow: 0px 1px 3px 1px rgba(0, 0, 0, 0.15);\n",
              "      filter: drop-shadow(0px 1px 2px rgba(0, 0, 0, 0.3));\n",
              "      fill: #FFFFFF;\n",
              "    }\n",
              "  </style>\n",
              "\n",
              "      <script>\n",
              "        const buttonEl =\n",
              "          document.querySelector('#df-d4359b1d-9a0d-447e-a7e4-b49623a9adf8 button.colab-df-convert');\n",
              "        buttonEl.style.display =\n",
              "          google.colab.kernel.accessAllowed ? 'block' : 'none';\n",
              "\n",
              "        async function convertToInteractive(key) {\n",
              "          const element = document.querySelector('#df-d4359b1d-9a0d-447e-a7e4-b49623a9adf8');\n",
              "          const dataTable =\n",
              "            await google.colab.kernel.invokeFunction('convertToInteractive',\n",
              "                                                     [key], {});\n",
              "          if (!dataTable) return;\n",
              "\n",
              "          const docLinkHtml = 'Like what you see? Visit the ' +\n",
              "            '<a target=\"_blank\" href=https://colab.research.google.com/notebooks/data_table.ipynb>data table notebook</a>'\n",
              "            + ' to learn more about interactive tables.';\n",
              "          element.innerHTML = '';\n",
              "          dataTable['output_type'] = 'display_data';\n",
              "          await google.colab.output.renderOutput(dataTable, element);\n",
              "          const docLink = document.createElement('div');\n",
              "          docLink.innerHTML = docLinkHtml;\n",
              "          element.appendChild(docLink);\n",
              "        }\n",
              "      </script>\n",
              "    </div>\n",
              "  </div>\n",
              "  "
            ]
          },
          "metadata": {},
          "execution_count": 58
        }
      ],
      "source": [
        "get_recommendations(\"Man with a Plan\")"
      ]
    },
    {
      "cell_type": "code",
      "execution_count": null,
      "id": "040dc23e",
      "metadata": {
        "id": "040dc23e",
        "papermill": {
          "duration": 0.020154,
          "end_time": "2023-02-01T23:19:51.613777",
          "exception": false,
          "start_time": "2023-02-01T23:19:51.593623",
          "status": "completed"
        },
        "tags": []
      },
      "outputs": [],
      "source": []
    }
  ],
  "metadata": {
    "kernelspec": {
      "display_name": "Python 3",
      "language": "python",
      "name": "python3"
    },
    "language_info": {
      "codemirror_mode": {
        "name": "ipython",
        "version": 3
      },
      "file_extension": ".py",
      "mimetype": "text/x-python",
      "name": "python",
      "nbconvert_exporter": "python",
      "pygments_lexer": "ipython3",
      "version": "3.7.12"
    },
    "papermill": {
      "default_parameters": {},
      "duration": 38.95388,
      "end_time": "2023-02-01T23:19:52.756362",
      "environment_variables": {},
      "exception": null,
      "input_path": "__notebook__.ipynb",
      "output_path": "__notebook__.ipynb",
      "parameters": {},
      "start_time": "2023-02-01T23:19:13.802482",
      "version": "2.3.4"
    },
    "colab": {
      "provenance": []
    }
  },
  "nbformat": 4,
  "nbformat_minor": 5
}